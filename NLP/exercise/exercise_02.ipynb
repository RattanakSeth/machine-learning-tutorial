{
 "cells": [
  {
   "cell_type": "markdown",
   "metadata": {},
   "source": [
    "# Exercise 1 and 2: Zero-probability N-grams\n",
    "Student's name: SETH Rattanak </br>\n",
    "Lecturer: Dr. Dona Valy"
   ]
  },
  {
   "cell_type": "markdown",
   "metadata": {},
   "source": [
    "### Exercise 1"
   ]
  },
  {
   "cell_type": "code",
   "execution_count": 2,
   "metadata": {},
   "outputs": [
    {
     "name": "stdout",
     "output_type": "stream",
     "text": [
      "27\n",
      "['<s>', 'I', 'am', 'Sam', '</s>', '<s>', 'Sam', 'I', 'am', '</s>', '<s>', 'Sam', 'I', 'like', '</s>', '<s>', 'Sam', 'I', 'do', 'like', '</s>', '<s>', 'do', 'I', 'like', 'Sam', '</s>']\n"
     ]
    }
   ],
   "source": [
    "text = '<s> I am Sam </s> <s> Sam I am </s> <s> Sam I like </s> <s> Sam I do like </s> <s> do I like Sam </s>'\n",
    "tokens = text.split()\n",
    "print(len(tokens))\n",
    "print(tokens)"
   ]
  },
  {
   "cell_type": "code",
   "execution_count": 3,
   "metadata": {},
   "outputs": [
    {
     "name": "stdout",
     "output_type": "stream",
     "text": [
      "Counter({'<s>': 5, 'I': 5, 'Sam': 5, '</s>': 5, 'like': 3, 'am': 2, 'do': 2})\n",
      "Counter({'</s> <s>': 4, '<s> Sam': 3, 'Sam I': 3, 'I am': 2, 'Sam </s>': 2, 'I like': 2, 'like </s>': 2, '<s> I': 1, 'am Sam': 1, 'am </s>': 1, 'I do': 1, 'do like': 1, '<s> do': 1, 'do I': 1, 'like Sam': 1})\n"
     ]
    }
   ],
   "source": [
    "from collections import Counter\n",
    "\n",
    "unigram = [char for char in tokens]\n",
    "uni_counts = Counter(unigram)\n",
    "print(uni_counts)\n",
    "\n",
    "bigrams = [' '.join([t1, t2]) for t1, t2 in zip(tokens[:-1], tokens[1:])]\n",
    "bi_counts = Counter(bigrams) # it represents a table of two words count\n",
    "print(bi_counts)"
   ]
  },
  {
   "cell_type": "code",
   "execution_count": 4,
   "metadata": {},
   "outputs": [
    {
     "name": "stdout",
     "output_type": "stream",
     "text": [
      "['<s>', 'I', 'am', 'Sam', '</s>', 'like', 'do']\n"
     ]
    }
   ],
   "source": [
    "vocab = list(Counter(tokens).keys())\n",
    "print(vocab)\n",
    "\"\"\"\n",
    "    Unsmoothed or MLE estimate\n",
    "    This is a bi-gram probability finding\n",
    "    e.g pr(do|<s>) = find_probability('do', '<s>')\n",
    "\"\"\"\n",
    "def find_probability(find_word, given_word):\n",
    "    join_word_count = bi_counts.get(' '.join([given_word, find_word]))\n",
    "    if not join_word_count :\n",
    "        join_word_count = 0\n",
    "    total_given_word = uni_counts.get(given_word)\n",
    "    pr =  join_word_count / total_given_word\n",
    "    print(\"pr(%s|%s) = %d / %d = %.3f\" % (find_word, given_word, join_word_count,  total_given_word, pr))\n",
    "    \n",
    "    return pr\n",
    "\n",
    "\"\"\"\n",
    "    Add-one estimate (Laplace Smoothing)\n",
    "\"\"\"\n",
    "def laplace_smoothing(find_word, given_word):\n",
    "    join_word_count = bi_counts.get(' '.join([given_word, find_word]))\n",
    "    if not join_word_count :\n",
    "        join_word_count = 0\n",
    "    total_given_word = uni_counts.get(given_word)\n",
    "    pr =  (join_word_count + 1)*1.0 / (total_given_word + len(vocab))\n",
    "    print(\"pr(%s|%s) = %d / %d = %.3f\" % (find_word, given_word, join_word_count+1,  total_given_word + len(vocab), pr))\n",
    "    \n",
    "    return pr\n",
    "\n"
   ]
  },
  {
   "cell_type": "code",
   "execution_count": 5,
   "metadata": {},
   "outputs": [
    {
     "name": "stdout",
     "output_type": "stream",
     "text": [
      "Unsmoothed\n",
      "pr(do|<s>) = 1 / 5 = 0.200\n",
      "pr(do|Sam) = 0 / 5 = 0.000\n",
      "pr(Sam|<s>) = 3 / 5 = 0.600\n",
      "pr(Sam|do) = 0 / 2 = 0.000\n",
      "pr(I|Sam) = 3 / 5 = 0.600\n",
      "pr(I|do) = 1 / 2 = 0.500\n",
      "pr(like|I) = 2 / 5 = 0.400\n",
      "pr(Sam|like) = 1 / 3 = 0.333\n",
      "\n",
      "Smoothed with Laplace Smoothing\n",
      "pr(do|<s>) = 2 / 12 = 0.167\n",
      "pr(do|Sam) = 1 / 12 = 0.083\n",
      "pr(Sam|<s>) = 4 / 12 = 0.333\n",
      "pr(Sam|do) = 1 / 9 = 0.111\n",
      "pr(I|Sam) = 4 / 12 = 0.333\n",
      "pr(I|do) = 2 / 9 = 0.222\n",
      "pr(like|I) = 3 / 12 = 0.250\n",
      "pr(Sam|like) = 2 / 10 = 0.200\n"
     ]
    },
    {
     "data": {
      "text/plain": [
       "0.2"
      ]
     },
     "execution_count": 5,
     "metadata": {},
     "output_type": "execute_result"
    }
   ],
   "source": [
    "\"\"\"\n",
    "    1. Find the following bigram probabilities estimated by this model\n",
    "    a) P(do|<s>)\n",
    "    b) P(do|Sam)\n",
    "    c) P(Sam|<s>)\n",
    "    d) P(Sam|do)\n",
    "    e) P(I|Sam)\n",
    "    f) P(I|do)\n",
    "    g) P(like|I)\n",
    "    h) P(Sam|like)\n",
    "\"\"\"\n",
    "print(\"Unsmoothed\")\n",
    "find_probability('do', '<s>')\n",
    "find_probability('do', 'Sam')\n",
    "find_probability('Sam', '<s>')\n",
    "find_probability('Sam', 'do')\n",
    "find_probability('I', 'Sam')\n",
    "find_probability('I', 'do')\n",
    "find_probability('like', 'I')\n",
    "find_probability('Sam', 'like')\n",
    "\n",
    "print(\"\\nSmoothed with Laplace Smoothing\")\n",
    "laplace_smoothing('do', '<s>')\n",
    "laplace_smoothing('do', 'Sam')\n",
    "laplace_smoothing('Sam', '<s>')\n",
    "laplace_smoothing('Sam', 'do')\n",
    "laplace_smoothing('I', 'Sam')\n",
    "laplace_smoothing('I', 'do')\n",
    "laplace_smoothing('like', 'I')\n",
    "laplace_smoothing('Sam', 'like')"
   ]
  },
  {
   "cell_type": "code",
   "execution_count": 6,
   "metadata": {},
   "outputs": [
    {
     "name": "stdout",
     "output_type": "stream",
     "text": [
      "Unsmoothed\n",
      "\n",
      "Calculate bigram probability:\n",
      "Given sentence:  <s> do Sam I like\n",
      "pr(do|<s>) = 1 / 5 = 0.200\n",
      "pr(Sam|do) = 0 / 2 = 0.000\n",
      "pr(I|Sam) = 3 / 5 = 0.600\n",
      "pr(like|I) = 2 / 5 = 0.400\n",
      "Perplexity of this sentence:  None\n",
      "Total probability of this sentence is:  0.0 \n",
      "\n",
      "Calculate bigram probability:\n",
      "Given sentence:  <s> Sam do I like\n",
      "pr(Sam|<s>) = 3 / 5 = 0.600\n",
      "pr(do|Sam) = 0 / 5 = 0.000\n",
      "pr(I|do) = 1 / 2 = 0.500\n",
      "pr(like|I) = 2 / 5 = 0.400\n",
      "Perplexity of this sentence:  None\n",
      "Total probability of this sentence is:  0.0 \n",
      "\n",
      "Calculate bigram probability:\n",
      "Given sentence:  I do like Sam </s>\n",
      "pr(do|I) = 1 / 5 = 0.200\n",
      "pr(like|do) = 1 / 2 = 0.500\n",
      "pr(Sam|like) = 1 / 3 = 0.333\n",
      "pr(</s>|Sam) = 2 / 5 = 0.400\n",
      "Perplexity of this sentence:  2.3714406097793117\n",
      "Total probability of this sentence is:  0.013333333333333334 \n",
      "\n",
      "\n",
      "Smoothed with Laplace Smoothing (adding one)\n",
      "\n",
      "Calculate bigram probability:\n",
      "Given sentence:  <s> do Sam I like\n",
      "pr(do|<s>) = 2 / 12 = 0.167\n",
      "pr(Sam|do) = 1 / 9 = 0.111\n",
      "pr(I|Sam) = 4 / 12 = 0.333\n",
      "pr(like|I) = 3 / 12 = 0.250\n",
      "Perplexity of this sentence:  3.650186051359235\n",
      "Total probability of this sentence is:  0.0015432098765432098 \n",
      "\n",
      "Calculate bigram probability:\n",
      "Given sentence:  <s> Sam do I like\n",
      "pr(Sam|<s>) = 4 / 12 = 0.333\n",
      "pr(do|Sam) = 1 / 12 = 0.083\n",
      "pr(I|do) = 2 / 9 = 0.222\n",
      "pr(like|I) = 3 / 12 = 0.250\n",
      "Perplexity of this sentence:  3.650186051359235\n",
      "Total probability of this sentence is:  0.0015432098765432098 \n",
      "\n",
      "Calculate bigram probability:\n",
      "Given sentence:  I do like Sam </s>\n",
      "pr(do|I) = 2 / 12 = 0.167\n",
      "pr(like|do) = 2 / 9 = 0.222\n",
      "pr(Sam|like) = 2 / 10 = 0.200\n",
      "pr(</s>|Sam) = 3 / 12 = 0.250\n",
      "Perplexity of this sentence:  3.519482028935523\n",
      "Total probability of this sentence is:  0.001851851851851852 \n",
      "\n"
     ]
    },
    {
     "data": {
      "text/plain": [
       "{'total_probability': 0.001851851851851852, 'perplexity': 3.519482028935523}"
      ]
     },
     "execution_count": 6,
     "metadata": {},
     "output_type": "execute_result"
    }
   ],
   "source": [
    "\"\"\"2. Calculate the probabilities and perplexity of the following\n",
    "sequences according to this model\n",
    "a) <s> do Sam I like\n",
    "b) <s> Sam do I like\n",
    "c) I do like Sam </s>\"\"\"\n",
    "\n",
    "def compute_probability_sentence(sentence: str, is_Laplace_Smoothing: bool = False):\n",
    "    print(\"Calculate bigram probability:\")\n",
    "    print('Given sentence: ', sentence)\n",
    "    list_word = sentence.split()\n",
    "\n",
    "    # initialise value\n",
    "    total_probability = 1\n",
    "    total_perplexity = 1.0\n",
    "    tmpPerplex = 1.0\n",
    "\n",
    "    for idx in range(0, len(list_word)-1):\n",
    "        pr = 0\n",
    "        if not is_Laplace_Smoothing:\n",
    "            pr = find_probability(list_word[idx + 1], list_word[idx])\n",
    "        else:\n",
    "            pr = laplace_smoothing(list_word[idx + 1], list_word[idx]) # Laplace Smoothing (adding one) to prevent zero happen\n",
    "            \n",
    "        total_probability = total_probability * pr\n",
    "\n",
    "        # prevent zero value happening due to leading to NONE or UNDEFINE\n",
    "        if pr == 0:\n",
    "            tmpPerplex = None\n",
    "            continue\n",
    "        if tmpPerplex:\n",
    "            tmpPerplex = tmpPerplex * (1 / pr)\n",
    "    \n",
    "        # print('P(%s %s) = %.2f' %(list_word[idx], list_word[idx + 1], pr))\n",
    "    if tmpPerplex:\n",
    "        total_perplexity = tmpPerplex**(1/len(list_word)) # tmpPerplex^(1/n)\n",
    "    else:\n",
    "        total_perplexity = tmpPerplex\n",
    "    print(\"Perplexity of this sentence: \", total_perplexity)\n",
    "    print(\"Total probability of this sentence is: \", total_probability, '\\n')\n",
    "    return {\"total_probability\": total_probability, \"perplexity\": total_perplexity}\n",
    "\n",
    "    \n",
    "print(\"Unsmoothed\\n\")\n",
    "compute_probability_sentence('<s> do Sam I like')\n",
    "compute_probability_sentence('<s> Sam do I like')\n",
    "compute_probability_sentence('I do like Sam </s>')\n",
    "\n",
    "print(\"\\nSmoothed with Laplace Smoothing (adding one)\\n\")\n",
    "compute_probability_sentence('<s> do Sam I like', True)\n",
    "compute_probability_sentence('<s> Sam do I like', True)\n",
    "compute_probability_sentence('I do like Sam </s>', True)\n"
   ]
  },
  {
   "cell_type": "markdown",
   "metadata": {},
   "source": [
    "### Exercise 2\n",
    "The same question as Exercise 1, but this time use add-k\n",
    "(k=0.1) smoothing instead of Laplace smoothing and in\n",
    "addition use linear interpolation to compute the probability\n",
    "of each bigram:\n",
    "$$\\hat{P}(w_i|w_{i-1})= \\lambda_1 P(w_i) + \\lambda_2 P(w_i|w{i-1})$$\n",
    "where $\\lambda_1=0.25$ and $\\lambda_2=0.75$"
   ]
  },
  {
   "cell_type": "code",
   "execution_count": 7,
   "metadata": {},
   "outputs": [],
   "source": [
    "from typing import Final\n",
    "# Global declaration\n",
    "LAMBDA_1: Final[float] = 0.25\n",
    "LAMBDA_2: Final[float] = 0.75\n",
    "K: Final[float] = 0.1"
   ]
  },
  {
   "cell_type": "code",
   "execution_count": 21,
   "metadata": {},
   "outputs": [
    {
     "data": {
      "text/plain": [
       "0.07581227436823106"
      ]
     },
     "execution_count": 21,
     "metadata": {},
     "output_type": "execute_result"
    }
   ],
   "source": [
    "\"\"\"\n",
    "    k-smoothing: K=0.1\n",
    "    This is a bi-gram probability finding\n",
    "    e.g pr(do|<s>) = add_k_smoothing('do', '<s>')\n",
    "\"\"\"\n",
    "def add_k_smoothing(find_word, given_word, is_print: bool = True):\n",
    "    join_word_count = bi_counts.get(' '.join([given_word, find_word]))\n",
    "    if not join_word_count :\n",
    "        join_word_count = 0\n",
    "    total_given_word = uni_counts.get(given_word)\n",
    "    pr =  (join_word_count + K) / (total_given_word + K*len(vocab))\n",
    "    if is_print: print(\"pr(%s|%s) = %.3f / %.3f = %.3f\" % (find_word, given_word, (join_word_count + K),  (total_given_word + K*len(vocab)), pr))\n",
    "    \n",
    "    return pr\n",
    "\n",
    "def add_k_smoothing_uni_gram(w: str):\n",
    "    total_count = len(tokens)\n",
    "    vocab_size = len(vocab)\n",
    "    pr = (uni_counts.get(w) + K) / (total_count + K * vocab_size)\n",
    "    return pr\n",
    "\n",
    "def linear_interpolation(find_word, given_word):\n",
    "    first_operation: float = (LAMBDA_1 * add_k_smoothing_uni_gram(find_word))\n",
    "    second_operation: float = (LAMBDA_2 * add_k_smoothing(find_word, given_word, False))\n",
    "    p_head = first_operation + second_operation\n",
    "    print(f\"pr_head({find_word}|{given_word})= {first_operation} + {second_operation} = {p_head}\")\n",
    "    return p_head\n",
    "\n",
    "add_k_smoothing_uni_gram('do')"
   ]
  },
  {
   "cell_type": "code",
   "execution_count": 22,
   "metadata": {},
   "outputs": [
    {
     "name": "stdout",
     "output_type": "stream",
     "text": [
      "Add K-Smoothing which k=0.1\n",
      "pr(do|<s>) = 1.100 / 5.700 = 0.193\n",
      "pr(do|Sam) = 0.100 / 5.700 = 0.018\n",
      "pr(Sam|<s>) = 3.100 / 5.700 = 0.544\n",
      "pr(Sam|do) = 0.100 / 2.700 = 0.037\n",
      "pr(I|Sam) = 3.100 / 5.700 = 0.544\n",
      "pr(I|do) = 1.100 / 2.700 = 0.407\n",
      "pr(like|I) = 2.100 / 5.700 = 0.368\n",
      "pr(Sam|like) = 1.100 / 3.700 = 0.297\n"
     ]
    },
    {
     "data": {
      "text/plain": [
       "0.2972972972972973"
      ]
     },
     "execution_count": 22,
     "metadata": {},
     "output_type": "execute_result"
    }
   ],
   "source": [
    "# Solution 1\n",
    "print(f\"Add K-Smoothing which k={K}\")\n",
    "add_k_smoothing('do', '<s>')\n",
    "add_k_smoothing('do', 'Sam')\n",
    "add_k_smoothing('Sam', '<s>')\n",
    "add_k_smoothing('Sam', 'do')\n",
    "add_k_smoothing('I', 'Sam')\n",
    "add_k_smoothing('I', 'do')\n",
    "add_k_smoothing('like', 'I')\n",
    "add_k_smoothing('Sam', 'like')"
   ]
  },
  {
   "cell_type": "markdown",
   "metadata": {},
   "source": [
    "### Use interpolation to compute the probability of each bigram"
   ]
  },
  {
   "cell_type": "code",
   "execution_count": 23,
   "metadata": {},
   "outputs": [
    {
     "name": "stdout",
     "output_type": "stream",
     "text": [
      "Linear Interpolation with K-Smoothing which is K=0.1\n",
      "\n",
      "pr_head(do|<s>)= 0.018953068592057764 + 0.14473684210526316 = 0.16368991069732092\n",
      "pr_head(do|Sam)= 0.018953068592057764 + 0.013157894736842105 = 0.03211096332889987\n",
      "pr_head(Sam|<s>)= 0.04602888086642599 + 0.4078947368421053 = 0.4539236177085313\n",
      "pr_head(Sam|do)= 0.04602888086642599 + 0.027777777777777776 = 0.07380665864420377\n",
      "pr_head(I|Sam)= 0.04602888086642599 + 0.4078947368421053 = 0.4539236177085313\n",
      "pr_head(I|do)= 0.04602888086642599 + 0.3055555555555556 = 0.35158443642198156\n",
      "pr_head(like|I)= 0.027978339350180507 + 0.2763157894736842 = 0.3042941288238647\n",
      "pr_head(Sam|like)= 0.04602888086642599 + 0.22297297297297297 = 0.26900185383939895\n"
     ]
    },
    {
     "data": {
      "text/plain": [
       "0.26900185383939895"
      ]
     },
     "execution_count": 23,
     "metadata": {},
     "output_type": "execute_result"
    }
   ],
   "source": [
    "print(\"Linear Interpolation with K-Smoothing which is K=0.1\\n\")\n",
    "linear_interpolation('do', '<s>')\n",
    "linear_interpolation('do', 'Sam')\n",
    "linear_interpolation('Sam', '<s>')\n",
    "linear_interpolation('Sam', 'do')\n",
    "linear_interpolation('I', 'Sam')\n",
    "linear_interpolation('I', 'do')\n",
    "linear_interpolation('like', 'I')\n",
    "linear_interpolation('Sam', 'like')"
   ]
  }
 ],
 "metadata": {
  "kernelspec": {
   "display_name": ".venv",
   "language": "python",
   "name": "python3"
  },
  "language_info": {
   "codemirror_mode": {
    "name": "ipython",
    "version": 3
   },
   "file_extension": ".py",
   "mimetype": "text/x-python",
   "name": "python",
   "nbconvert_exporter": "python",
   "pygments_lexer": "ipython3",
   "version": "3.12.5"
  }
 },
 "nbformat": 4,
 "nbformat_minor": 2
}
