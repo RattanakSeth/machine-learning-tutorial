{
 "cells": [
  {
   "cell_type": "markdown",
   "metadata": {},
   "source": [
    "# Exercise 01\n",
    "### Name: Seth Rattanak\n",
    "### PART A\n",
    "Compute the minimum edit distance between\n",
    "each of the following pair of strings (draw the edit distance\n",
    "table) and then find the appropriate alignments:\n",
    "1. “APPROXIMATION”, “INFORMATIONAL”\n",
    "2. “AGGCTATCACCTGA”, “TAGCTATCACGA”\n",
    "3. \"បច្ចប្ប័ន្នភាព្ព\", \"បច្ចុប្បន្នភាព\""
   ]
  },
  {
   "cell_type": "code",
   "execution_count": null,
   "metadata": {},
   "outputs": [],
   "source": [
    "### EXERCISE 1.1"
   ]
  },
  {
   "cell_type": "code",
   "execution_count": 6,
   "metadata": {},
   "outputs": [],
   "source": [
    "import numpy as np\n",
    "from numpy._typing import (\n",
    "    # Arrays\n",
    "    NDArray\n",
    ")\n",
    "from typing import (\n",
    "    Literal as L,\n",
    "    Any,\n",
    "    overload,\n",
    "    TypeVar,\n",
    "    SupportsIndex,\n",
    "    final,\n",
    "    Final,\n",
    "    Protocol,\n",
    "    ClassVar,\n",
    ")"
   ]
  },
  {
   "cell_type": "code",
   "execution_count": null,
   "metadata": {},
   "outputs": [
    {
     "name": "stdout",
     "output_type": "stream",
     "text": [
      "shape:  (14, 14)\n",
      "[[ 0  1  2  3  4  5  6  7  8  9 10 11 12 13]\n",
      " [ 1  1  2  3  4  5  6  6  7  8  9 10 11 12]\n",
      " [ 2  2  2  3  4  5  6  7  7  8  9 10 11 12]\n",
      " [ 3  3  3  3  4  5  6  7  8  8  9 10 11 12]\n",
      " [ 4  4  4  4  4  4  5  6  7  8  9 10 11 12]\n",
      " [ 5  5  5  5  4  5  5  6  7  8  8  9 10 11]\n",
      " [ 6  6  6  6  5  5  6  6  7  8  9  9 10 11]\n",
      " [ 7  6  7  7  6  6  6  7  7  7  8  9 10 11]\n",
      " [ 8  7  7  8  7  7  6  7  8  8  8  9 10 11]\n",
      " [ 9  8  8  8  8  8  7  6  7  8  9  9  9 10]\n",
      " [10  9  9  9  9  9  8  7  6  7  8  9 10 10]\n",
      " [11 10 10 10 10 10  9  8  7  6  7  8  9 10]\n",
      " [12 11 11 11 10 11 10  9  8  7  6  7  8  9]\n",
      " [13 12 11 12 11 11 11 10  9  8  7  6  7  8]]\n"
     ]
    }
   ],
   "source": [
    "word_1 = \"_APPROXIMATION\"\n",
    "word_2 = \"_INFORMATIONAL\"\n",
    "word_list_1 = list(word_1)\n",
    "word_list_2 = list(word_2)\n",
    "\n",
    "# initialize default table\n",
    "table_list = np.empty((len(word_list_1), len(word_list_2)), np.int8)\n",
    "\n",
    "for idx1, w1 in enumerate(word_list_1):\n",
    "    for idx2, w2 in enumerate(word_list_2):\n",
    "        # default Epsilon with word and word with Epsilon\n",
    "        # print(idx1, \"&\", idx2)\n",
    "        if (idx1 == 0):\n",
    "            table_list[idx1][idx2] = idx2\n",
    "        elif idx1 > 0 and idx2 < 1:\n",
    "            table_list[idx1][idx2] = idx1\n",
    "        else:\n",
    "            # use minimum edit distance, ranging from [1, 1] till end\n",
    "            # idx1 stand for Y or n; idx2 represent X or m\n",
    "            edX = table_list[idx1][idx2 -1] + 1 #eD(m-1, n)\n",
    "            edY = table_list[idx1 -1 ][idx2] + 1 # eD(m, n-1)\n",
    "            diagonal = table_list[idx1 -1][idx2 -1] + (0 if w1 == w2 else 1) #eD(m-1,n-1) + delta(X[m], Y[n])\n",
    "            table_list[idx1][idx2] = min(edX, edY, diagonal)\n",
    "\n",
    "print(table_list)"
   ]
  },
  {
   "cell_type": "markdown",
   "metadata": {},
   "source": [
    "### Create a function for clean code"
   ]
  },
  {
   "cell_type": "code",
   "execution_count": 51,
   "metadata": {},
   "outputs": [],
   "source": [
    "def compute_minimum_edit_distance(word_1: str, word_2: str) -> NDArray[Any]:\n",
    "    word_list_1 = list(word_1)\n",
    "    word_list_2 = list(word_2)\n",
    "    # initialize default table\n",
    "    table_list = np.empty((len(word_list_1), len(word_list_2)), np.int8)\n",
    "\n",
    "    for idx1, w1 in enumerate(word_list_1):\n",
    "        for idx2, w2 in enumerate(word_list_2):\n",
    "            # default Epsilon with word and word with Epsilon\n",
    "            # print(idx1, \"&\", idx2)\n",
    "            if (idx1 == 0):\n",
    "                table_list[idx1][idx2] = idx2\n",
    "            elif idx1 > 0 and idx2 < 1:\n",
    "                table_list[idx1][idx2] = idx1\n",
    "            else:\n",
    "                # use minimum edit distance, ranging from [1, 1] till end\n",
    "                # idx1 stand for Y or n; idx2 represent X or m\n",
    "                edX = table_list[idx1][idx2 -1] + 1 #eD(m-1, n)\n",
    "                edY = table_list[idx1 -1 ][idx2] + 1 # eD(m, n-1)\n",
    "                diagonal = table_list[idx1 -1][idx2 -1] + (0 if w1 == w2 else 1) #eD(m-1,n-1) + delta(X[m], Y[n])\n",
    "                table_list[idx1][idx2] = min(edX, edY, diagonal)\n",
    "\n",
    "    return table_list"
   ]
  },
  {
   "cell_type": "code",
   "execution_count": null,
   "metadata": {},
   "outputs": [
    {
     "name": "stdout",
     "output_type": "stream",
     "text": [
      "[[ 0  1  2  3  4  5  6  7  8  9 10 11 12]\n",
      " [ 1  1  1  2  3  4  5  6  7  8  9 10 11]\n",
      " [ 2  2  2  1  2  3  4  5  6  7  8  9 10]\n",
      " [ 3  3  3  2  2  3  4  5  6  7  8  8  9]\n",
      " [ 4  4  4  3  2  3  4  5  5  6  7  8  9]\n",
      " [ 5  4  5  4  3  2  3  4  5  6  7  8  9]\n",
      " [ 6  5  4  5  4  3  2  3  4  5  6  7  8]\n",
      " [ 7  6  5  5  5  4  3  2  3  4  5  6  7]\n",
      " [ 8  7  6  6  5  5  4  3  2  3  4  5  6]\n",
      " [ 9  8  7  7  6  6  5  4  3  2  3  4  5]\n",
      " [10  9  8  8  7  7  6  5  4  3  2  3  4]\n",
      " [11 10  9  9  8  8  7  6  5  4  3  3  4]\n",
      " [12 11 10 10  9  8  8  7  6  5  4  4  4]\n",
      " [13 12 11 10 10  9  9  8  7  6  5  4  5]\n",
      " [14 13 12 11 11 10  9  9  8  7  6  5  4]]\n"
     ]
    }
   ],
   "source": [
    "# Exercise 1.2, similarly, _ use for space\n",
    "word_1 = \"_AGGCTATCACCTGA\"\n",
    "word_2 = \"_TAGCTATCACGA\"\n",
    "print(compute_minimum_edit_distance(word_1=word_1, word_2=word_2))"
   ]
  },
  {
   "cell_type": "code",
   "execution_count": 54,
   "metadata": {},
   "outputs": [
    {
     "name": "stdout",
     "output_type": "stream",
     "text": [
      "[[ 0  1  2  3  4  5  6  7  8  9 10 11 12 13 14]\n",
      " [ 1  0  1  2  3  4  5  6  7  8  9 10 11 12 13]\n",
      " [ 2  1  0  1  2  3  4  5  6  7  8  9 10 11 12]\n",
      " [ 3  2  1  0  1  2  3  4  5  6  7  8  9 10 11]\n",
      " [ 4  3  2  1  0  1  2  3  4  5  6  7  8  9 10]\n",
      " [ 5  4  3  2  1  1  1  2  3  4  5  6  7  8  9]\n",
      " [ 6  5  4  3  2  2  2  1  2  3  4  5  6  7  8]\n",
      " [ 7  6  5  4  3  3  2  2  1  2  3  4  5  6  7]\n",
      " [ 8  7  6  5  4  4  3  3  2  2  3  4  5  6  7]\n",
      " [ 9  8  7  6  5  5  4  4  3  2  3  3  4  5  6]\n",
      " [10  9  8  7  6  6  5  4  4  3  2  3  4  5  6]\n",
      " [11 10  9  8  7  7  6  5  5  4  3  2  3  4  5]\n",
      " [12 11 10  9  8  8  7  6  6  5  4  3  2  3  4]\n",
      " [13 12 11 10  9  9  8  7  7  6  5  4  3  2  3]\n",
      " [14 13 12 11 10 10  9  8  8  7  6  5  4  3  2]\n",
      " [15 14 13 12 11 11 10  9  9  8  7  6  5  4  3]\n",
      " [16 15 14 13 12 12 11 10 10  9  8  7  6  5  4]]\n"
     ]
    }
   ],
   "source": [
    "# Exercise 1.3, similarly, _ use for space\n",
    "word_1 = \"_បច្ចប្ប័ន្នភាព្ព\"\n",
    "word_2 = \"_បច្ចុប្បន្នភាព\"\n",
    "print(compute_minimum_edit_distance(word_1=word_1, word_2=word_2))"
   ]
  },
  {
   "cell_type": "markdown",
   "metadata": {},
   "source": [
    "### PART B"
   ]
  },
  {
   "cell_type": "code",
   "execution_count": 1,
   "metadata": {},
   "outputs": [],
   "source": [
    "from typing import Final\n",
    "\n",
    "DELETE: Final[int] = 1\n",
    "INSERT: Final[int] = 2\n",
    "SUBSTITUTE: Final[int] = 3"
   ]
  },
  {
   "cell_type": "code",
   "execution_count": 7,
   "metadata": {},
   "outputs": [],
   "source": [
    "# Make function bases on what studied in classroom (excel formula or minimum edit distance eD)\n",
    "def compute_minimum_edit_distance_with_cost(word_1: str, word_2: str) -> dict:\n",
    "    word_list_1 = list(word_1)\n",
    "    word_list_2 = list(word_2)\n",
    "    cost = 0\n",
    "    delete = 0\n",
    "    insert = 0\n",
    "    substitute = 0\n",
    "    # initialize default table\n",
    "    table_list = np.empty((len(word_list_1), len(word_list_2)), np.int8)\n",
    "\n",
    "    for idx1, w1 in enumerate(word_list_1):\n",
    "        for idx2, w2 in enumerate(word_list_2):\n",
    "            # default Epsilon with word and word with Epsilon\n",
    "            # print(idx1, \"&\", idx2)\n",
    "            if (idx1 == 0):\n",
    "                table_list[idx1][idx2] = idx2\n",
    "            elif idx1 > 0 and idx2 < 1:\n",
    "                table_list[idx1][idx2] = idx1\n",
    "            else:\n",
    "                diagonal = table_list[idx1 -1][idx2 -1]\n",
    "                if w1 == w2:\n",
    "                    # Just copy the diagonal element. No cost then\n",
    "                    table_list[idx1][idx2] = diagonal\n",
    "                else: \n",
    "                    # can be replace remove, or insert\n",
    "                    # use minimum edit distance, ranging from [1, 1] till end\n",
    "                    # idx1 stand for Y or n; idx2 represent X or m\n",
    "                    edX = table_list[idx1][idx2 -1] + 1 #eD(m-1, n), remove\n",
    "                    edY = table_list[idx1 -1 ][idx2] + 1 # eD(m, n-1), insert\n",
    "                    minimum = min(edX, edY, diagonal)\n",
    "                    if minimum == edX:\n",
    "                        # if minimum values are the same delete is prior\n",
    "                        cost += DELETE\n",
    "                        delete += DELETE\n",
    "                    elif minimum == edY:\n",
    "                        cost += INSERT\n",
    "                        insert += INSERT\n",
    "                    elif minimum == diagonal:\n",
    "                        cost += SUBSTITUTE\n",
    "                        substitute += SUBSTITUTE\n",
    "                    table_list[idx1][idx2] = minimum + 1\n",
    "\n",
    "    return {\n",
    "        \"table_list\": table_list, \n",
    "        \"total_cost\": cost,\n",
    "        \"delete_cost\": delete,\n",
    "        \"insert_cost\": insert,\n",
    "        \"substitute\": substitute\n",
    "    }"
   ]
  },
  {
   "cell_type": "code",
   "execution_count": 10,
   "metadata": {},
   "outputs": [
    {
     "name": "stdout",
     "output_type": "stream",
     "text": [
      "Cost of this operation:  397\n",
      "Cost of this delete:  20\n",
      "Cost of this insert:  38\n",
      "Cost of this substitute:  339\n"
     ]
    }
   ],
   "source": [
    "word_orig = \"_APPROXIMATION\"\n",
    "word_sub = \"_INFORMATIONAL\"\n",
    "\n",
    "distance = compute_minimum_edit_distance_with_cost(word_orig, word_sub)\n",
    "print(\"Cost of this operation: \", distance['total_cost'])\n",
    "print(\"Cost of this delete: \", distance['delete_cost'])\n",
    "print(\"Cost of this insert: \", distance['insert_cost'])\n",
    "print(\"Cost of this substitute: \", distance['substitute'])"
   ]
  },
  {
   "cell_type": "code",
   "execution_count": 11,
   "metadata": {},
   "outputs": [
    {
     "name": "stdout",
     "output_type": "stream",
     "text": [
      "Cost of this operation:  269\n",
      "Cost of this delete:  35\n",
      "Cost of this insert:  72\n",
      "Cost of this substitute:  162\n"
     ]
    }
   ],
   "source": [
    "word_1 = \"_AGGCTATCACCTGA\"\n",
    "word_2 = \"_TAGCTATCACGA\"\n",
    "\n",
    "distance: dict = compute_minimum_edit_distance_with_cost(word_1, word_2)\n",
    "print(\"Cost of this operation: \", distance['total_cost'])\n",
    "print(\"Cost of this delete: \", distance['delete_cost'])\n",
    "print(\"Cost of this insert: \", distance['insert_cost'])\n",
    "print(\"Cost of this substitute: \", distance['substitute'])"
   ]
  },
  {
   "cell_type": "code",
   "execution_count": 12,
   "metadata": {},
   "outputs": [
    {
     "name": "stdout",
     "output_type": "stream",
     "text": [
      "Cost of this operation:  418\n",
      "Cost of this delete:  49\n",
      "Cost of this insert:  114\n",
      "Cost of this substitute:  255\n"
     ]
    }
   ],
   "source": [
    "word_1 = \"_បច្ចប្ប័ន្នភាព្ព\"\n",
    "word_2 = \"_បច្ចុប្បន្នភាព\"\n",
    "distance: dict = compute_minimum_edit_distance_with_cost(word_1, word_2)\n",
    "print(\"Cost of this operation: \", distance['total_cost'])\n",
    "print(\"Cost of this delete: \", distance['delete_cost'])\n",
    "print(\"Cost of this insert: \", distance['insert_cost'])\n",
    "print(\"Cost of this substitute: \", distance['substitute'])"
   ]
  }
 ],
 "metadata": {
  "kernelspec": {
   "display_name": ".venv",
   "language": "python",
   "name": "python3"
  },
  "language_info": {
   "codemirror_mode": {
    "name": "ipython",
    "version": 3
   },
   "file_extension": ".py",
   "mimetype": "text/x-python",
   "name": "python",
   "nbconvert_exporter": "python",
   "pygments_lexer": "ipython3",
   "version": "3.12.5"
  }
 },
 "nbformat": 4,
 "nbformat_minor": 2
}
