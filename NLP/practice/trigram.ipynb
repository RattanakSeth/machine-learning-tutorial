{
 "cells": [
  {
   "cell_type": "markdown",
   "metadata": {},
   "source": [
    "### N-gram model\n",
    "<b>Exercise:</b> \n",
    "\n",
    "Considering the following example:\n",
    "\n",
    "`<s> I am Sam </s>\n",
    "<s> Sam I am </s>\n",
    "<s> Sam I like </s>\n",
    "<s> Sam I do like </s>\n",
    "<s> do I like Sam </s>`\n",
    "\n",
    "• Assume that we use a bigram language model based on\n",
    "the above corpus.\n",
    "1. What is the most probable next word predicted by the model for\n",
    "the following sequence\n",
    "a) `<s> Sam . . .`\n",
    "b) `<s> Sam I do . . .`\n",
    "c) `<s> Sam I am Sam . . .`\n",
    "d) `<s> do I like . . .`"
   ]
  },
  {
   "cell_type": "code",
   "execution_count": 1,
   "metadata": {},
   "outputs": [
    {
     "name": "stdout",
     "output_type": "stream",
     "text": [
      "27\n",
      "['<s>', 'I', 'am', 'Sam', '</s>', '<s>', 'Sam', 'I', 'am', '</s>', '<s>', 'Sam', 'I', 'like', '</s>', '<s>', 'Sam', 'I', 'do', 'like', '</s>', '<s>', 'do', 'I', 'like', 'Sam', '</s>']\n"
     ]
    }
   ],
   "source": [
    "text = '<s> I am Sam </s> <s> Sam I am </s> <s> Sam I like </s> <s> Sam I do like </s> <s> do I like Sam </s>'\n",
    "\n",
    "tokens = text.split()\n",
    "\n",
    "print(len(tokens))\n",
    "print(tokens)"
   ]
  },
  {
   "cell_type": "code",
   "execution_count": 2,
   "metadata": {},
   "outputs": [
    {
     "name": "stdout",
     "output_type": "stream",
     "text": [
      "Counter({'</s> <s>': 4, '<s> Sam': 3, 'Sam I': 3, 'I am': 2, 'Sam </s>': 2, 'I like': 2, 'like </s>': 2, '<s> I': 1, 'am Sam': 1, 'am </s>': 1, 'I do': 1, 'do like': 1, '<s> do': 1, 'do I': 1, 'like Sam': 1})\n",
      "['<s> I am', 'I am Sam', 'am Sam </s>', 'Sam </s> <s>', '</s> <s> Sam', '<s> Sam I', 'Sam I am', 'I am </s>', 'am </s> <s>', '</s> <s> Sam', '<s> Sam I', 'Sam I like', 'I like </s>', 'like </s> <s>', '</s> <s> Sam', '<s> Sam I', 'Sam I do', 'I do like', 'do like </s>', 'like </s> <s>', '</s> <s> do', '<s> do I', 'do I like', 'I like Sam', 'like Sam </s>']\n",
      "Counter({'</s> <s> Sam': 3, '<s> Sam I': 3, 'like </s> <s>': 2, '<s> I am': 1, 'I am Sam': 1, 'am Sam </s>': 1, 'Sam </s> <s>': 1, 'Sam I am': 1, 'I am </s>': 1, 'am </s> <s>': 1, 'Sam I like': 1, 'I like </s>': 1, 'Sam I do': 1, 'I do like': 1, 'do like </s>': 1, '</s> <s> do': 1, '<s> do I': 1, 'do I like': 1, 'I like Sam': 1, 'like Sam </s>': 1})\n"
     ]
    }
   ],
   "source": [
    "from collections import Counter\n",
    "\n",
    "bigrams = [' '.join([t1, t2]) for t1, t2 in zip(tokens[:-1], tokens[1:])]\n",
    "bi_counts = Counter(bigrams)\n",
    "print(bi_counts)\n",
    "\n",
    "trigrams = [' '.join([t1, t2, t3]) for t1, t2,t3 in zip(tokens[:-2], tokens[1: -1], tokens[2:])]\n",
    "tri_counts = Counter(trigrams)\n",
    "\n",
    "print(trigrams)\n",
    "print(tri_counts)"
   ]
  },
  {
   "cell_type": "code",
   "execution_count": 3,
   "metadata": {},
   "outputs": [
    {
     "name": "stdout",
     "output_type": "stream",
     "text": [
      "Prevous Words: <s> Sam\n",
      "tmp_tri:  <s> Sam <s>\n",
      "<s> \t 0.0\n",
      "tmp_tri:  <s> Sam I\n",
      "I \t 1.0\n",
      "tmp_tri:  <s> Sam am\n",
      "am \t 0.0\n",
      "tmp_tri:  <s> Sam Sam\n",
      "Sam \t 0.0\n",
      "tmp_tri:  <s> Sam </s>\n",
      "</s> \t 0.0\n",
      "tmp_tri:  <s> Sam like\n",
      "like \t 0.0\n",
      "tmp_tri:  <s> Sam do\n",
      "do \t 0.0\n"
     ]
    }
   ],
   "source": [
    "# Predict next word using normal probability (unsmoothed)\n",
    "vocab = list(Counter(tokens).keys())\n",
    "\n",
    "prev = '<s> Sam'\n",
    "print('Prevous Words:', prev)\n",
    "\n",
    "for w in vocab:\n",
    "  tmp_tri = prev+' '+w\n",
    "  print(\"tmp_tri: \", tmp_tri)\n",
    "  if tmp_tri in tri_counts:\n",
    "    c_tri = tri_counts[tmp_tri]\n",
    "  else:\n",
    "    c_tri = 0\n",
    "  if prev in bi_counts:\n",
    "    c_bi = bi_counts[prev]\n",
    "  else:\n",
    "    c_bi = 0\n",
    "  print(w, '\\t', c_tri*1.0/c_bi)"
   ]
  },
  {
   "cell_type": "code",
   "execution_count": 6,
   "metadata": {},
   "outputs": [
    {
     "name": "stdout",
     "output_type": "stream",
     "text": [
      "Prevous Words: <s> Sam\n",
      "<s> \t 0.1\n",
      "I \t 0.4\n",
      "am \t 0.1\n",
      "Sam \t 0.1\n",
      "</s> \t 0.1\n",
      "like \t 0.1\n",
      "do \t 0.1\n"
     ]
    }
   ],
   "source": [
    "\n",
    "vocab = list(Counter(tokens).keys())\n",
    "\n",
    "prev = '<s> Sam'\n",
    "print('Prevous Words:', prev)\n",
    "K = 1\n",
    "\n",
    "for w in vocab:\n",
    "  tmp_tri = prev+' '+w\n",
    "  if tmp_tri in tri_counts:\n",
    "    c_tri = tri_counts[tmp_tri]\n",
    "  else:\n",
    "    c_tri = 0\n",
    "  if prev in bi_counts:\n",
    "    c_bi = bi_counts[prev]\n",
    "  else:\n",
    "    c_bi = 0\n",
    "  print(w, '\\t', ((c_tri + K)*1.0)/(c_bi + K*len(vocab))) #Laplace (add-one) smoothing"
   ]
  },
  {
   "cell_type": "code",
   "execution_count": 7,
   "metadata": {},
   "outputs": [
    {
     "name": "stdout",
     "output_type": "stream",
     "text": [
      "Prevous Words: <s> Sam\n",
      "<s> \t 0.02702702702702703\n",
      "I \t 0.8378378378378378\n",
      "am \t 0.02702702702702703\n",
      "Sam \t 0.02702702702702703\n",
      "</s> \t 0.02702702702702703\n",
      "like \t 0.02702702702702703\n",
      "do \t 0.02702702702702703\n"
     ]
    }
   ],
   "source": [
    "vocab = list(Counter(tokens).keys())\n",
    "\n",
    "prev = '<s> Sam'\n",
    "print('Prevous Words:', prev)\n",
    "\n",
    "for w in vocab:\n",
    "  tmp_tri = prev+' '+w\n",
    "  if tmp_tri in tri_counts:\n",
    "    c_tri = tri_counts[tmp_tri]\n",
    "  else:\n",
    "    c_tri = 0\n",
    "  if prev in bi_counts:\n",
    "    c_bi = bi_counts[prev]\n",
    "  else:\n",
    "    c_bi = 0\n",
    "  print(w, '\\t', ((c_tri + 0.1)*1.0) / (c_bi + 0.1*len(vocab))) #Add-k (0.1) smoothing"
   ]
  }
 ],
 "metadata": {
  "kernelspec": {
   "display_name": ".venv",
   "language": "python",
   "name": "python3"
  },
  "language_info": {
   "codemirror_mode": {
    "name": "ipython",
    "version": 3
   },
   "file_extension": ".py",
   "mimetype": "text/x-python",
   "name": "python",
   "nbconvert_exporter": "python",
   "pygments_lexer": "ipython3",
   "version": "3.12.5"
  }
 },
 "nbformat": 4,
 "nbformat_minor": 2
}
