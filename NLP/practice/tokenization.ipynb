{
 "cells": [
  {
   "cell_type": "code",
   "execution_count": 1,
   "metadata": {},
   "outputs": [
    {
     "name": "stdout",
     "output_type": "stream",
     "text": [
      "[\"I'm\", 'going', 'to', 'school', 'today.']\n"
     ]
    }
   ],
   "source": [
    "text = \"I'm going to school today.\"\n",
    "\n",
    "tokens = text.split()\n",
    "print(tokens)"
   ]
  },
  {
   "cell_type": "code",
   "execution_count": 3,
   "metadata": {},
   "outputs": [
    {
     "name": "stderr",
     "output_type": "stream",
     "text": [
      "[nltk_data] Downloading package punkt to /Users/rattanak/nltk_data...\n",
      "[nltk_data]   Package punkt is already up-to-date!\n"
     ]
    }
   ],
   "source": [
    "import nltk\n",
    "nltk.download('punkt')\n",
    "from collections import Counter"
   ]
  },
  {
   "cell_type": "code",
   "execution_count": 9,
   "metadata": {},
   "outputs": [
    {
     "name": "stdout",
     "output_type": "stream",
     "text": [
      "\n",
      "\n",
      "Merge 1\n",
      "Vocab Counter({'a': 6, 'n': 3, 'b': 2, '_': 2, 'd': 1})\n",
      "Pairs Counter({'an': 3, 'na': 3, 'ba': 2, 'a_': 2, '_b': 1, 'ad': 1, 'da': 1})\n",
      "k:  A v:  an\n",
      "bAAa_badAa_\n",
      "\n",
      "\n",
      "Merge 2\n",
      "Vocab Counter({'A': 3, 'a': 3, 'b': 2, '_': 2, 'd': 1})\n",
      "Pairs Counter({'Aa': 2, 'a_': 2, 'bA': 1, 'AA': 1, '_b': 1, 'ba': 1, 'ad': 1, 'dA': 1})\n",
      "k:  B v:  Aa\n",
      "bAB_badB_\n",
      "\n",
      "\n",
      "Merge 3\n",
      "Vocab Counter({'b': 2, 'B': 2, '_': 2, 'A': 1, 'a': 1, 'd': 1})\n",
      "Pairs Counter({'B_': 2, 'bA': 1, 'AB': 1, '_b': 1, 'ba': 1, 'ad': 1, 'dB': 1})\n",
      "k:  C v:  B_\n",
      "bACbadC\n",
      "\n",
      "\n",
      "Merge 4\n",
      "Vocab Counter({'b': 2, 'C': 2, 'A': 1, 'a': 1, 'd': 1})\n",
      "Pairs Counter({'bA': 1, 'AC': 1, 'Cb': 1, 'ba': 1, 'ad': 1, 'dC': 1})\n",
      "k:  D v:  bA\n",
      "DCbadC\n",
      "\n",
      "\n",
      "Merge 5\n",
      "Vocab Counter({'C': 2, 'D': 1, 'b': 1, 'a': 1, 'd': 1})\n",
      "Pairs Counter({'DC': 1, 'Cb': 1, 'ba': 1, 'ad': 1, 'dC': 1})\n",
      "k:  E v:  DC\n",
      "EbadC\n",
      "\n",
      "\n",
      "Merge 6\n",
      "Vocab Counter({'E': 1, 'b': 1, 'a': 1, 'd': 1, 'C': 1})\n",
      "Pairs Counter({'Eb': 1, 'ba': 1, 'ad': 1, 'dC': 1})\n",
      "k:  F v:  Eb\n",
      "FadC\n"
     ]
    }
   ],
   "source": [
    "# Exercise 1\n",
    "# tokenize the following corpus using BPE:\n",
    "# Corpus: banana_banana_\n",
    "corpus = \"banana_badana_\"\n",
    "# banana_: 2\n",
    "\"\"\"\"\n",
    "b: 2, a: 6, n:4\n",
    "\"\"\"\n",
    "\n",
    "for merge in range(6):\n",
    "  print('\\n\\nMerge %d' % (merge+1))\n",
    "  tokens = list(corpus)\n",
    "\n",
    "  vocab = Counter(tokens)\n",
    "\n",
    "  print('Vocab', vocab)\n",
    "\n",
    "  pairs = [t1+t2 for t1, t2 in zip(tokens[:-1], tokens[1:])]\n",
    "  counter_pairs = Counter(pairs)\n",
    "\n",
    "  print('Pairs', counter_pairs)\n",
    "\n",
    "  k = chr(ord('A')+merge)\n",
    "  v = counter_pairs.most_common(1)[0][0]\n",
    "  print(\"k: \", k, \"v: \", v)\n",
    "\n",
    "  mapping = {}\n",
    "  mapping[k] = v\n",
    "\n",
    "  corpus = corpus.replace(v, k)\n",
    "  print(corpus)"
   ]
  },
  {
   "cell_type": "code",
   "execution_count": 8,
   "metadata": {},
   "outputs": [
    {
     "name": "stdout",
     "output_type": "stream",
     "text": [
      "\n",
      "\n",
      "Merge 1\n",
      "Vocab Counter({'ស': 18, '្': 6, 'រ': 6, 'ិ': 5, 'ា': 4, 'ន': 3, 'អ': 3, 'ូ': 3, 'ក': 3, 'ព': 2, 'ែ': 2, 'ៀ': 1, 'ច': 1, 'េ': 1, 'គ': 1, 'ើ': 1})\n",
      "Pairs Counter({'សិ': 5, '្ស': 5, 'ិស': 4, 'ស្': 4, 'សរ': 3, 'អា': 3, 'រស': 3, 'នស': 2, 'ាន': 2, 'សព': 2, 'ពូ': 2, 'ូក': 2, 'កែ': 2, 'រៀ': 1, 'ៀន': 1, 'សអ': 1, 'ែអ': 1, 'នអ': 1, 'ាច': 1, 'ចស': 1, 'សេ': 1, 'េរ': 1, 'រគ': 1, 'គ្': 1, '្រ': 1, 'រូ': 1, 'ូស': 1, 'សើ': 1, 'ើរ': 1, 'ែស': 1, 'ិក': 1, 'ក្': 1, 'សា': 1})\n",
      "k:  A v:  សិ\n",
      "Aស្សរៀនAស្សអានAស្សពូកែអានអាចសរសេរគ្រូសរសើរAស្សពូកែAក្សា\n",
      "\n",
      "\n",
      "Merge 2\n",
      "Vocab Counter({'ស': 13, '្': 6, 'រ': 6, 'A': 5, 'ា': 4, 'ន': 3, 'អ': 3, 'ូ': 3, 'ក': 3, 'ព': 2, 'ែ': 2, 'ៀ': 1, 'ច': 1, 'េ': 1, 'គ': 1, 'ើ': 1})\n",
      "Pairs Counter({'្ស': 5, 'Aស': 4, 'ស្': 4, 'សរ': 3, 'អា': 3, 'នA': 2, 'ាន': 2, 'សព': 2, 'ពូ': 2, 'ូក': 2, 'កែ': 2, 'រស': 2, 'រៀ': 1, 'ៀន': 1, 'សអ': 1, 'ែអ': 1, 'នអ': 1, 'ាច': 1, 'ចស': 1, 'សេ': 1, 'េរ': 1, 'រគ': 1, 'គ្': 1, '្រ': 1, 'រូ': 1, 'ូស': 1, 'សើ': 1, 'ើរ': 1, 'រA': 1, 'ែA': 1, 'Aក': 1, 'ក្': 1, 'សា': 1})\n",
      "k:  B v:  ្ស\n",
      "AសBរៀនAសBអានAសBពូកែអានអាចសរសេរគ្រូសរសើរAសBពូកែAកBា\n",
      "\n",
      "\n",
      "Merge 3\n",
      "Vocab Counter({'ស': 8, 'រ': 6, 'A': 5, 'B': 5, 'ា': 4, 'ន': 3, 'អ': 3, 'ូ': 3, 'ក': 3, 'ព': 2, 'ែ': 2, 'ៀ': 1, 'ច': 1, 'េ': 1, 'គ': 1, '្': 1, 'ើ': 1})\n",
      "Pairs Counter({'Aស': 4, 'សB': 4, 'អា': 3, 'នA': 2, 'ាន': 2, 'Bព': 2, 'ពូ': 2, 'ូក': 2, 'កែ': 2, 'សរ': 2, 'រស': 2, 'Bរ': 1, 'រៀ': 1, 'ៀន': 1, 'Bអ': 1, 'ែអ': 1, 'នអ': 1, 'ាច': 1, 'ចស': 1, 'សេ': 1, 'េរ': 1, 'រគ': 1, 'គ្': 1, '្រ': 1, 'រូ': 1, 'ូស': 1, 'សើ': 1, 'ើរ': 1, 'រA': 1, 'ែA': 1, 'Aក': 1, 'កB': 1, 'Bា': 1})\n",
      "k:  C v:  Aស\n",
      "CBរៀនCBអានCBពូកែអានអាចសរសេរគ្រូសរសើរCBពូកែAកBា\n",
      "\n",
      "\n",
      "Merge 4\n",
      "Vocab Counter({'រ': 6, 'B': 5, 'C': 4, 'ា': 4, 'ស': 4, 'ន': 3, 'អ': 3, 'ូ': 3, 'ក': 3, 'ព': 2, 'ែ': 2, 'ៀ': 1, 'ច': 1, 'េ': 1, 'គ': 1, '្': 1, 'ើ': 1, 'A': 1})\n",
      "Pairs Counter({'CB': 4, 'អា': 3, 'នC': 2, 'ាន': 2, 'Bព': 2, 'ពូ': 2, 'ូក': 2, 'កែ': 2, 'សរ': 2, 'រស': 2, 'Bរ': 1, 'រៀ': 1, 'ៀន': 1, 'Bអ': 1, 'ែអ': 1, 'នអ': 1, 'ាច': 1, 'ចស': 1, 'សេ': 1, 'េរ': 1, 'រគ': 1, 'គ្': 1, '្រ': 1, 'រូ': 1, 'ូស': 1, 'សើ': 1, 'ើរ': 1, 'រC': 1, 'ែA': 1, 'Aក': 1, 'កB': 1, 'Bា': 1})\n",
      "k:  D v:  CB\n",
      "DរៀនDអានDពូកែអានអាចសរសេរគ្រូសរសើរDពូកែAកBា\n",
      "\n",
      "\n",
      "Merge 5\n",
      "Vocab Counter({'រ': 6, 'D': 4, 'ា': 4, 'ស': 4, 'ន': 3, 'អ': 3, 'ូ': 3, 'ក': 3, 'ព': 2, 'ែ': 2, 'ៀ': 1, 'ច': 1, 'េ': 1, 'គ': 1, '្': 1, 'ើ': 1, 'A': 1, 'B': 1})\n",
      "Pairs Counter({'អា': 3, 'នD': 2, 'ាន': 2, 'Dព': 2, 'ពូ': 2, 'ូក': 2, 'កែ': 2, 'សរ': 2, 'រស': 2, 'Dរ': 1, 'រៀ': 1, 'ៀន': 1, 'Dអ': 1, 'ែអ': 1, 'នអ': 1, 'ាច': 1, 'ចស': 1, 'សេ': 1, 'េរ': 1, 'រគ': 1, 'គ្': 1, '្រ': 1, 'រូ': 1, 'ូស': 1, 'សើ': 1, 'ើរ': 1, 'រD': 1, 'ែA': 1, 'Aក': 1, 'កB': 1, 'Bា': 1})\n",
      "k:  E v:  អា\n",
      "DរៀនDEនDពូកែEនEចសរសេរគ្រូសរសើរDពូកែAកBា\n",
      "\n",
      "\n",
      "Merge 6\n",
      "Vocab Counter({'រ': 6, 'D': 4, 'ស': 4, 'ន': 3, 'E': 3, 'ូ': 3, 'ក': 3, 'ព': 2, 'ែ': 2, 'ៀ': 1, 'ច': 1, 'េ': 1, 'គ': 1, '្': 1, 'ើ': 1, 'A': 1, 'B': 1, 'ា': 1})\n",
      "Pairs Counter({'នD': 2, 'Eន': 2, 'Dព': 2, 'ពូ': 2, 'ូក': 2, 'កែ': 2, 'សរ': 2, 'រស': 2, 'Dរ': 1, 'រៀ': 1, 'ៀន': 1, 'DE': 1, 'ែE': 1, 'នE': 1, 'Eច': 1, 'ចស': 1, 'សេ': 1, 'េរ': 1, 'រគ': 1, 'គ្': 1, '្រ': 1, 'រូ': 1, 'ូស': 1, 'សើ': 1, 'ើរ': 1, 'រD': 1, 'ែA': 1, 'Aក': 1, 'កB': 1, 'Bា': 1})\n",
      "k:  F v:  នD\n",
      "DរៀFEFពូកែEនEចសរសេរគ្រូសរសើរDពូកែAកBា\n",
      "\n",
      "\n",
      "Merge 7\n",
      "Vocab Counter({'រ': 6, 'ស': 4, 'E': 3, 'ូ': 3, 'ក': 3, 'D': 2, 'F': 2, 'ព': 2, 'ែ': 2, 'ៀ': 1, 'ន': 1, 'ច': 1, 'េ': 1, 'គ': 1, '្': 1, 'ើ': 1, 'A': 1, 'B': 1, 'ា': 1})\n",
      "Pairs Counter({'ពូ': 2, 'ូក': 2, 'កែ': 2, 'សរ': 2, 'រស': 2, 'Dរ': 1, 'រៀ': 1, 'ៀF': 1, 'FE': 1, 'EF': 1, 'Fព': 1, 'ែE': 1, 'Eន': 1, 'នE': 1, 'Eច': 1, 'ចស': 1, 'សេ': 1, 'េរ': 1, 'រគ': 1, 'គ្': 1, '្រ': 1, 'រូ': 1, 'ូស': 1, 'សើ': 1, 'ើរ': 1, 'រD': 1, 'Dព': 1, 'ែA': 1, 'Aក': 1, 'កB': 1, 'Bា': 1})\n",
      "k:  G v:  ពូ\n",
      "DរៀFEFGកែEនEចសរសេរគ្រូសរសើរDGកែAកBា\n",
      "\n",
      "\n",
      "Merge 8\n",
      "Vocab Counter({'រ': 6, 'ស': 4, 'E': 3, 'ក': 3, 'D': 2, 'F': 2, 'G': 2, 'ែ': 2, 'ៀ': 1, 'ន': 1, 'ច': 1, 'េ': 1, 'គ': 1, '្': 1, 'ូ': 1, 'ើ': 1, 'A': 1, 'B': 1, 'ា': 1})\n",
      "Pairs Counter({'Gក': 2, 'កែ': 2, 'សរ': 2, 'រស': 2, 'Dរ': 1, 'រៀ': 1, 'ៀF': 1, 'FE': 1, 'EF': 1, 'FG': 1, 'ែE': 1, 'Eន': 1, 'នE': 1, 'Eច': 1, 'ចស': 1, 'សេ': 1, 'េរ': 1, 'រគ': 1, 'គ្': 1, '្រ': 1, 'រូ': 1, 'ូស': 1, 'សើ': 1, 'ើរ': 1, 'រD': 1, 'DG': 1, 'ែA': 1, 'Aក': 1, 'កB': 1, 'Bា': 1})\n",
      "k:  H v:  Gក\n",
      "DរៀFEFHែEនEចសរសេរគ្រូសរសើរDHែAកBា\n",
      "\n",
      "\n",
      "Merge 9\n",
      "Vocab Counter({'រ': 6, 'ស': 4, 'E': 3, 'D': 2, 'F': 2, 'H': 2, 'ែ': 2, 'ៀ': 1, 'ន': 1, 'ច': 1, 'េ': 1, 'គ': 1, '្': 1, 'ូ': 1, 'ើ': 1, 'A': 1, 'ក': 1, 'B': 1, 'ា': 1})\n",
      "Pairs Counter({'Hែ': 2, 'សរ': 2, 'រស': 2, 'Dរ': 1, 'រៀ': 1, 'ៀF': 1, 'FE': 1, 'EF': 1, 'FH': 1, 'ែE': 1, 'Eន': 1, 'នE': 1, 'Eច': 1, 'ចស': 1, 'សេ': 1, 'េរ': 1, 'រគ': 1, 'គ្': 1, '្រ': 1, 'រូ': 1, 'ូស': 1, 'សើ': 1, 'ើរ': 1, 'រD': 1, 'DH': 1, 'ែA': 1, 'Aក': 1, 'កB': 1, 'Bា': 1})\n",
      "k:  I v:  Hែ\n",
      "DរៀFEFIEនEចសរសេរគ្រូសរសើរDIAកBា\n",
      "\n",
      "\n",
      "Merge 10\n",
      "Vocab Counter({'រ': 6, 'ស': 4, 'E': 3, 'D': 2, 'F': 2, 'I': 2, 'ៀ': 1, 'ន': 1, 'ច': 1, 'េ': 1, 'គ': 1, '្': 1, 'ូ': 1, 'ើ': 1, 'A': 1, 'ក': 1, 'B': 1, 'ា': 1})\n",
      "Pairs Counter({'សរ': 2, 'រស': 2, 'Dរ': 1, 'រៀ': 1, 'ៀF': 1, 'FE': 1, 'EF': 1, 'FI': 1, 'IE': 1, 'Eន': 1, 'នE': 1, 'Eច': 1, 'ចស': 1, 'សេ': 1, 'េរ': 1, 'រគ': 1, 'គ្': 1, '្រ': 1, 'រូ': 1, 'ូស': 1, 'សើ': 1, 'ើរ': 1, 'រD': 1, 'DI': 1, 'IA': 1, 'Aក': 1, 'កB': 1, 'Bា': 1})\n",
      "k:  J v:  សរ\n",
      "DរៀFEFIEនEចJសេរគ្រូJសើរDIAកBា\n"
     ]
    }
   ],
   "source": [
    "#BPE\n",
    "\n",
    "\n",
    "text = 'សិស្សរៀនសិស្សអានសិស្សពូកែអានអាចសរសេរគ្រូសរសើរសិស្សពូកែសិក្សា'\n",
    "\n",
    "for merge in range(10):\n",
    "  print('\\n\\nMerge %d' % (merge+1))\n",
    "  tokens = list(text)\n",
    "\n",
    "  vocab = Counter(tokens)\n",
    "\n",
    "  print('Vocab', vocab)\n",
    "\n",
    "  pairs = [t1+t2 for t1, t2 in zip(tokens[:-1], tokens[1:])]\n",
    "  counter_pairs = Counter(pairs)\n",
    "\n",
    "  print('Pairs', counter_pairs)\n",
    "\n",
    "  k = chr(ord('A')+merge) # char order A B C\n",
    "  v = counter_pairs.most_common(1)[0][0]\n",
    "  print(\"k: \", k, \"v: \", v)\n",
    "\n",
    "  mapping = {}\n",
    "  mapping[k] = v\n",
    "\n",
    "  text = text.replace(v, k)\n",
    "  print(text)\n"
   ]
  }
 ],
 "metadata": {
  "kernelspec": {
   "display_name": ".venv",
   "language": "python",
   "name": "python3"
  },
  "language_info": {
   "codemirror_mode": {
    "name": "ipython",
    "version": 3
   },
   "file_extension": ".py",
   "mimetype": "text/x-python",
   "name": "python",
   "nbconvert_exporter": "python",
   "pygments_lexer": "ipython3",
   "version": "3.12.5"
  }
 },
 "nbformat": 4,
 "nbformat_minor": 2
}
