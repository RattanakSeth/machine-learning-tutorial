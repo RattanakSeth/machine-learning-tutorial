{
 "cells": [
  {
   "cell_type": "markdown",
   "metadata": {},
   "source": [
    "### Byte Pair Encoding (BPE)\n",
    "• Example corpus:\n",
    "old finest older finest old lowest finest finest finest old finest old older\n",
    "finest old lowest older old finest old lowest finest\n",
    "• Pre-tokenization (add a special symbol _ at the end to\n",
    "identify word boundary)\n",
    "• old_: 7\n",
    "• older_: 3\n",
    "• finest_: 9\n",
    "• lowest_: 4"
   ]
  },
  {
   "cell_type": "code",
   "execution_count": null,
   "metadata": {},
   "outputs": [],
   "source": [
    "# from collections import Counter\n",
    "\n",
    "# text = \"old finest older finest old lowest finest finest finest old finest old older finest old lowest older old finest old lowest finest\"\n"
   ]
  },
  {
   "cell_type": "code",
   "execution_count": 10,
   "metadata": {},
   "outputs": [
    {
     "name": "stdout",
     "output_type": "stream",
     "text": [
      "Initial Vocabulary: Counter({'b a n a n a _ b a n d a n a _': 1})\n",
      "Step 1: Most frequent pair: ('a', 'n')\n",
      "Step 1: Vocabulary: {'b an an a _ b an d an a _': 1}\n",
      "Step 2: Most frequent pair: ('b', 'an')\n",
      "Step 2: Vocabulary: {'ban an a _ ban d an a _': 1}\n",
      "Step 3: Most frequent pair: ('an', 'a')\n",
      "Step 3: Vocabulary: {'banan a _ ban d ana _': 1}\n",
      "Step 4: Most frequent pair: ('banan', 'a')\n",
      "Step 4: Vocabulary: {'banana _ ban d ana _': 1}\n",
      "Step 5: Most frequent pair: ('banana', '_')\n",
      "Step 5: Vocabulary: {'banana_ ban d ana _': 1}\n",
      "Step 6: Most frequent pair: ('banana_', 'ban')\n",
      "Step 6: Vocabulary: {'banana_ban d ana _': 1}\n",
      "\n",
      "Final set of subword units: {'banana_bandana_'}\n"
     ]
    }
   ],
   "source": [
    "from collections import Counter, defaultdict\n",
    "\n",
    "def get_stats(vocab):\n",
    "    \"\"\"\n",
    "    Get frequency of adjacent character pairs in the vocabulary.\n",
    "    \"\"\"\n",
    "    pairs = defaultdict(int)\n",
    "    for word, freq in vocab.items():\n",
    "        symbols = word.split()\n",
    "        for i in range(len(symbols) - 1):\n",
    "            pair = (symbols[i], symbols[i + 1])\n",
    "            pairs[pair] += freq\n",
    "    return pairs\n",
    "\n",
    "def merge_vocab(pair, vocab):\n",
    "    \"\"\"\n",
    "    Merge the most frequent pair in the vocabulary.\n",
    "    \"\"\"\n",
    "    new_vocab = {}\n",
    "    bigram = ' '.join(pair)\n",
    "    replacement = ''.join(pair)\n",
    "    for word in vocab:\n",
    "        # Replace the bigram with the merged token\n",
    "        new_word = word.replace(bigram, replacement)\n",
    "        new_vocab[new_word] = vocab[word]\n",
    "    return new_vocab\n",
    "\n",
    "# Initialize the vocabulary with character-level tokens\n",
    "corpus = \"banana_bandana_\"\n",
    "vocab = Counter([' '.join(corpus)])  # Split characters with space\n",
    "\n",
    "print(\"Initial Vocabulary:\", vocab)\n",
    "\n",
    "num_merges = 6  # Number of merges to perform\n",
    "for i in range(num_merges):\n",
    "    pairs = get_stats(vocab)\n",
    "    if not pairs:\n",
    "        break\n",
    "    # Get the most frequent pair\n",
    "    most_frequent = max(pairs, key=pairs.get)\n",
    "    print(f\"Step {i + 1}: Most frequent pair: {most_frequent}\")\n",
    "    \n",
    "    # Merge the pair in the vocabulary\n",
    "    vocab = merge_vocab(most_frequent, vocab)\n",
    "    print(f\"Step {i + 1}: Vocabulary: {vocab}\")\n",
    "\n",
    "# Extract the final set of subword units\n",
    "subwords = set(''.join(word.split()) for word in vocab)\n",
    "print(\"\\nFinal set of subword units:\", subwords)\n"
   ]
  }
 ],
 "metadata": {
  "kernelspec": {
   "display_name": ".venv",
   "language": "python",
   "name": "python3"
  },
  "language_info": {
   "codemirror_mode": {
    "name": "ipython",
    "version": 3
   },
   "file_extension": ".py",
   "mimetype": "text/x-python",
   "name": "python",
   "nbconvert_exporter": "python",
   "pygments_lexer": "ipython3",
   "version": "3.12.5"
  }
 },
 "nbformat": 4,
 "nbformat_minor": 2
}
