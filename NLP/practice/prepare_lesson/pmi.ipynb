{
 "cells": [
  {
   "cell_type": "code",
   "execution_count": null,
   "metadata": {},
   "outputs": [],
   "source": [
    "# Pointwise Mutual Information"
   ]
  },
  {
   "cell_type": "code",
   "execution_count": 1,
   "metadata": {},
   "outputs": [
    {
     "name": "stdout",
     "output_type": "stream",
     "text": [
      "(('is', 'a'), 4.523561956057013)\n",
      "(('this', 'is'), 4.523561956057013)\n",
      "(('a', 'foo'), 2.938599455335857)\n",
      "(('sheep', 'shep'), 2.938599455335857)\n",
      "(('black', 'sentence'), 2.523561956057013)\n",
      "(('black', 'sheep'), 2.523561956057013)\n",
      "(('sheep', 'foo'), 2.353636954614701)\n",
      "(('bar', 'black'), 1.523561956057013)\n",
      "(('foo', 'bar'), 1.523561956057013)\n",
      "(('shep', 'bar'), 1.523561956057013)\n",
      "(('bar', 'bar'), 0.5235619560570131)\n"
     ]
    },
    {
     "name": "stderr",
     "output_type": "stream",
     "text": [
      "[nltk_data] Downloading package punkt to /Users/rattanak/nltk_data...\n",
      "[nltk_data]   Package punkt is already up-to-date!\n"
     ]
    }
   ],
   "source": [
    "from nltk.collocations import BigramCollocationFinder, BigramAssocMeasures\n",
    "from nltk.tokenize import word_tokenize\n",
    "import nltk\n",
    "nltk.download('punkt')\n",
    "\n",
    "text = \"this is a foo bar bar black sheep  foo bar bar black sheep foo bar bar black sheep shep bar bar black sentence\"\n",
    "\n",
    "bigram_measures = BigramAssocMeasures()\n",
    "finder = BigramCollocationFinder.from_words(word_tokenize(text))\n",
    "for i in finder.score_ngrams(bigram_measures.pmi):\n",
    "    print(i)"
   ]
  }
 ],
 "metadata": {
  "kernelspec": {
   "display_name": ".venv",
   "language": "python",
   "name": "python3"
  },
  "language_info": {
   "codemirror_mode": {
    "name": "ipython",
    "version": 3
   },
   "file_extension": ".py",
   "mimetype": "text/x-python",
   "name": "python",
   "nbconvert_exporter": "python",
   "pygments_lexer": "ipython3",
   "version": "3.12.5"
  }
 },
 "nbformat": 4,
 "nbformat_minor": 2
}
