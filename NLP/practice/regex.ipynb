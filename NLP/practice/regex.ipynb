{
 "cells": [
  {
   "cell_type": "markdown",
   "metadata": {},
   "source": [
    "### Regular expression introduction to Natural Language Processing"
   ]
  },
  {
   "cell_type": "code",
   "execution_count": 1,
   "metadata": {},
   "outputs": [
    {
     "name": "stdout",
     "output_type": "stream",
     "text": [
      "smallest\n"
     ]
    }
   ],
   "source": [
    "import re\n",
    "\n",
    "r1= r'(\\w+)er'\n",
    "r2 = r'\\1est'\n",
    "text = \"smaller\"\n",
    "print(re.sub(r1, r2, text))"
   ]
  },
  {
   "cell_type": "code",
   "execution_count": 3,
   "metadata": {},
   "outputs": [
    {
     "name": "stdout",
     "output_type": "stream",
     "text": [
      "012-345-678\n",
      "016-123-4567\n"
     ]
    }
   ],
   "source": [
    "r1 = r'(\\d{3})(\\d{3})(\\d{3,4})'\n",
    "r2 = r'\\1-\\2-\\3'\n",
    "\n",
    "text1 = '012345678'\n",
    "text = '0161234567'\n",
    "\n",
    "result1 = re.sub(r1, r2, text1)\n",
    "result2 = re.sub(r1, r2, text)\n",
    "print(result1)\n",
    "print(result2)"
   ]
  },
  {
   "cell_type": "markdown",
   "metadata": {},
   "source": [
    "Exercise\n",
    "Write a regular expression to match each of the following\n",
    "patterns:\n",
    "1. Any character that is not a word character nor a white\n",
    "space\n",
    "2. String of letters whose length is at most 3\n",
    "3. String of digits whose length is at least 3\n",
    "4. String of word characters containing at least one a and\n",
    "one b\n",
    "5. Anything enclosed by square brackets\n",
    "6. String of word characters whose the 5th character from\n",
    "the right end is a digit\n",
    "7. Date format: yyyy-mm-dd"
   ]
  },
  {
   "cell_type": "code",
   "execution_count": null,
   "metadata": {},
   "outputs": [],
   "source": [
    "\n",
    "# 1. Any character that is not a word character nor a white space\n",
    "r1 = r'[^\\w\\s]'\n",
    "# (?!\\w)(?!\\S)\n",
    "# 2. String of letters whose length is at most 3\n",
    "r2 = r'[a-zA-Z]{1,3}'\n",
    "# 3. String of digits whose length is at least 3\n",
    "r3 = r'\\d{3,}'\n",
    "# 4. String of word characters containing at least one a and one b\n",
    "r4 = r'\\w*a\\w*b\\w*|\\w*b\\w*a\\w*'\n",
    "# 5. Anything enclosed by square brackets\n",
    "r5 = r'\\[(.*?)\\]'\n",
    "# 6. String of word characters whose the 5th character from the right end is a digit\n",
    "r6 = r'\\w*\\d\\w{4}'\n",
    "# 7. Date format: yyyy-mm-dd\n",
    "r7 = r'\\d{4}-(?:0[1-9]|1[0-2])-(?:0[1-9]|[12]\\d|3[01])'\n",
    "# 8 String of 10 digits that starts and ends with the same 3-digit sequence\n",
    "r8 = r'(\\d{3})\\d{4}\\1'\n",
    "# 9. Password satisfying the following conditions:\n",
    "# • at least 1 lowercase letter\n",
    "# • at least 1 uppercase letter\n",
    "# • at least 1 digit\n",
    "# • six characters or more\n",
    "r9 = r'(?=.*[a-z])(?=.*[A-Z])(?=.*\\d).{6,}'"
   ]
  }
 ],
 "metadata": {
  "kernelspec": {
   "display_name": ".venv",
   "language": "python",
   "name": "python3"
  },
  "language_info": {
   "codemirror_mode": {
    "name": "ipython",
    "version": 3
   },
   "file_extension": ".py",
   "mimetype": "text/x-python",
   "name": "python",
   "nbconvert_exporter": "python",
   "pygments_lexer": "ipython3",
   "version": "3.12.5"
  }
 },
 "nbformat": 4,
 "nbformat_minor": 2
}
