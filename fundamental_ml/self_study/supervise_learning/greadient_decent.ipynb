{
 "cells": [
  {
   "cell_type": "markdown",
   "metadata": {},
   "source": [
    "# Linear Regression for absolute beginner"
   ]
  },
  {
   "cell_type": "markdown",
   "metadata": {},
   "source": [
    "### Cost function"
   ]
  },
  {
   "cell_type": "code",
   "execution_count": 5,
   "metadata": {},
   "outputs": [
    {
     "data": {
      "text/plain": [
       "5.25"
      ]
     },
     "execution_count": 5,
     "metadata": {},
     "output_type": "execute_result"
    }
   ],
   "source": [
    "def j_theta(theta1):\n",
    "    X = [1,2,3]\n",
    "    y = [1,2,3]\n",
    "    m = len(X)\n",
    "\n",
    "    squared_errors = []\n",
    "    for i in range(m):\n",
    "        hypothesis = theta1 * X[i]\n",
    "        Xi_error = (hypothesis - y[i]) ** 2\n",
    "        squared_errors.append(Xi_error)\n",
    "    \n",
    "    j_theta = (1/(2*m)) * sum(squared_errors)\n",
    "\n",
    "    return j_theta\n",
    "\n",
    "j_theta(2.5)"
   ]
  },
  {
   "cell_type": "markdown",
   "metadata": {},
   "source": [
    "### Gradient Descent"
   ]
  },
  {
   "cell_type": "markdown",
   "metadata": {},
   "source": [
    "### Frog Jump sample code"
   ]
  },
  {
   "cell_type": "code",
   "execution_count": 4,
   "metadata": {},
   "outputs": [
    {
     "data": {
      "text/plain": [
       "1.0000052007480844"
      ]
     },
     "execution_count": 4,
     "metadata": {},
     "output_type": "execute_result"
    }
   ],
   "source": [
    "def gradient_descent(alpha, iters):\n",
    "    x = [1,2,3]\n",
    "    y = [1,2,3]\n",
    "\n",
    "    theta1 = 2.5 # theta1 initialise\n",
    "    m = len(x)\n",
    "\n",
    "    for _ in range(iters):\n",
    "        d_theta = [] # [d_theta1, d_theta2, d_theta3]\n",
    "        for i in range(len(x)):\n",
    "            d_theta.append((theta1*x[i] - y[i]) * x[i])\n",
    "        theta1 = theta1 - alpha*(1/m)*sum(d_theta)\n",
    "    return theta1\n",
    "\n",
    "gradient_descent(0.1, 20)"
   ]
  },
  {
   "cell_type": "code",
   "execution_count": 6,
   "metadata": {},
   "outputs": [
    {
     "data": {
      "text/plain": [
       "6.311148815301632e-11"
      ]
     },
     "execution_count": 6,
     "metadata": {},
     "output_type": "execute_result"
    }
   ],
   "source": [
    "j_theta(1.0000052007480844)"
   ]
  }
 ],
 "metadata": {
  "kernelspec": {
   "display_name": ".venv",
   "language": "python",
   "name": "python3"
  },
  "language_info": {
   "codemirror_mode": {
    "name": "ipython",
    "version": 3
   },
   "file_extension": ".py",
   "mimetype": "text/x-python",
   "name": "python",
   "nbconvert_exporter": "python",
   "pygments_lexer": "ipython3",
   "version": "3.12.5"
  }
 },
 "nbformat": 4,
 "nbformat_minor": 2
}
