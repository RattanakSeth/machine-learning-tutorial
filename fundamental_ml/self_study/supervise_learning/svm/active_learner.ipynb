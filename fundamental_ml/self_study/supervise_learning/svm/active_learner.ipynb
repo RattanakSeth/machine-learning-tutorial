{
 "cells": [
  {
   "cell_type": "code",
   "execution_count": 1,
   "metadata": {},
   "outputs": [
    {
     "ename": "ModuleNotFoundError",
     "evalue": "No module named 'modAL'",
     "output_type": "error",
     "traceback": [
      "\u001b[0;31m---------------------------------------------------------------------------\u001b[0m",
      "\u001b[0;31mModuleNotFoundError\u001b[0m                       Traceback (most recent call last)",
      "Cell \u001b[0;32mIn[1], line 5\u001b[0m\n\u001b[1;32m      3\u001b[0m \u001b[38;5;28;01mfrom\u001b[39;00m \u001b[38;5;21;01msklearn\u001b[39;00m\u001b[38;5;21;01m.\u001b[39;00m\u001b[38;5;21;01msvm\u001b[39;00m \u001b[38;5;28;01mimport\u001b[39;00m SVC\n\u001b[1;32m      4\u001b[0m \u001b[38;5;28;01mfrom\u001b[39;00m \u001b[38;5;21;01msklearn\u001b[39;00m\u001b[38;5;21;01m.\u001b[39;00m\u001b[38;5;21;01mmodel_selection\u001b[39;00m \u001b[38;5;28;01mimport\u001b[39;00m train_test_split\n\u001b[0;32m----> 5\u001b[0m \u001b[38;5;28;01mfrom\u001b[39;00m \u001b[38;5;21;01mmodAL\u001b[39;00m\u001b[38;5;21;01m.\u001b[39;00m\u001b[38;5;21;01mmodels\u001b[39;00m \u001b[38;5;28;01mimport\u001b[39;00m ActiveLearner\n\u001b[1;32m      6\u001b[0m \u001b[38;5;28;01mfrom\u001b[39;00m \u001b[38;5;21;01mmodAL\u001b[39;00m\u001b[38;5;21;01m.\u001b[39;00m\u001b[38;5;21;01muncertainty\u001b[39;00m \u001b[38;5;28;01mimport\u001b[39;00m uncertainty_sampling\n",
      "\u001b[0;31mModuleNotFoundError\u001b[0m: No module named 'modAL'"
     ]
    }
   ],
   "source": [
    "import numpy as np\n",
    "from sklearn.datasets import make_classification\n",
    "from sklearn.svm import SVC\n",
    "from sklearn.model_selection import train_test_split\n",
    "from modAL.models import ActiveLearner\n",
    "from modAL.uncertainty import uncertainty_sampling"
   ]
  },
  {
   "cell_type": "code",
   "execution_count": null,
   "metadata": {},
   "outputs": [],
   "source": [
    "# 1. Generate synthetic data\n",
    "X, _ = make_classification(n_samples=10000, n_features=20, n_classes=2)\n",
    "\n",
    "# Initial labeled data (5 positive, 5 negative)\n",
    "initial_idx = np.random.choice(range(10000), size=10, replace=False)\n",
    "X_labeled = X[initial_idx]\n",
    "y_labeled = np.array([1]*5 + [0]*5)  # 5 positive, 5 negative\n",
    "\n",
    "# Unlabeled pool\n",
    "X_pool = np.delete(X, initial_idx, axis=0)\n",
    "\n",
    "# 2. Initialize Active Learner\n",
    "learner = ActiveLearner(\n",
    "    estimator=SVC(probability=True),\n",
    "    query_strategy=uncertainty_sampling,\n",
    "    X_training=X_labeled,\n",
    "    y_training=y_labeled\n",
    ")\n",
    "\n",
    "# 3. Active Learning Loop\n",
    "for i in range(20):  # Query 20 times\n",
    "    # Select the most uncertain sample\n",
    "    query_idx, query_inst = learner.query(X_pool)\n",
    "    \n",
    "    # Simulate oracle labeling\n",
    "    true_label = np.random.randint(0, 2)  # Replace with real labeling\n",
    "    \n",
    "    # Teach the model\n",
    "    learner.teach(X_pool[query_idx].reshape(1, -1), [true_label])\n",
    "    \n",
    "    # Remove the labeled sample from the pool\n",
    "    X_pool = np.delete(X_pool, query_idx, axis=0)\n",
    "\n",
    "# 4. Evaluate the model\n",
    "print(\"Final model accuracy:\", learner.score(X, np.random.randint(0, 2, size=10000)))\n"
   ]
  }
 ],
 "metadata": {
  "kernelspec": {
   "display_name": ".venv",
   "language": "python",
   "name": "python3"
  },
  "language_info": {
   "codemirror_mode": {
    "name": "ipython",
    "version": 3
   },
   "file_extension": ".py",
   "mimetype": "text/x-python",
   "name": "python",
   "nbconvert_exporter": "python",
   "pygments_lexer": "ipython3",
   "version": "3.12.5"
  }
 },
 "nbformat": 4,
 "nbformat_minor": 2
}
