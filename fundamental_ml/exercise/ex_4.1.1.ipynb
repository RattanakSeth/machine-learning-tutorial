{
 "cells": [
  {
   "cell_type": "code",
   "execution_count": 1,
   "metadata": {},
   "outputs": [
    {
     "name": "stdout",
     "output_type": "stream",
     "text": [
      "x (100, 2)\n",
      "y (100,)\n"
     ]
    }
   ],
   "source": [
    "import numpy as np\n",
    "import pandas as pd\n",
    "\n",
    "data = pd.read_csv('../data/data_3_1_1.csv').to_numpy()\n",
    "\n",
    "x = data[:, :-1]\n",
    "y = data[:, -1]\n",
    "\n",
    "print('x', x.shape)\n",
    "print('y', y.shape)"
   ]
  },
  {
   "cell_type": "code",
   "execution_count": 2,
   "metadata": {},
   "outputs": [
    {
     "name": "stdout",
     "output_type": "stream",
     "text": [
      "torch.Size([100, 2])\n"
     ]
    }
   ],
   "source": [
    "import torch\n",
    "import torch.nn as nn\n",
    "\n",
    "class MyNN(nn.Module):\n",
    "    def __init__(self):\n",
    "        super().__init__()\n",
    "        self.hid_layer1 = nn.Linear(2, 5)\n",
    "        self.hid_layer2 = nn.Linear(5,5)\n",
    "        self.out_layer = nn.Linear(5,2)\n",
    "\n",
    "    def forward(self, x): #x: tensor(m,2)\n",
    "        output = self.hid_layer1(x) #tensor(m, 5)\n",
    "        output = torch.sigmoid(output)\n",
    "        output = self.hid_layer2(output)\n",
    "        output = torch.sigmoid(output)\n",
    "        output = self.out_layer(output)\n",
    "        # output = torch.sigmoid(output) # apply cross entropy\n",
    "        return output\n",
    "    \n",
    "tmp = torch.rand(100, 2)\n",
    "model = MyNN()\n",
    "output = model(tmp)\n",
    "print(output.shape)"
   ]
  },
  {
   "cell_type": "markdown",
   "metadata": {},
   "source": [
    "Cost/Loss functions in Pytorch:\n",
    "\n",
    "\n",
    "*   MSELoss\n",
    "*   CrossEntropyLoss\n",
    "*   BCELoss/BCEWithLogitsLoss\n",
    "\n"
   ]
  },
  {
   "cell_type": "code",
   "execution_count": 3,
   "metadata": {},
   "outputs": [
    {
     "name": "stdout",
     "output_type": "stream",
     "text": [
      "i: 0, J: 0.713912\n",
      "i: 10, J: 0.689041\n",
      "i: 20, J: 0.686527\n",
      "i: 30, J: 0.685361\n",
      "i: 40, J: 0.684183\n",
      "i: 50, J: 0.682891\n",
      "i: 60, J: 0.681461\n",
      "i: 70, J: 0.679866\n",
      "i: 80, J: 0.678076\n",
      "i: 90, J: 0.676053\n",
      "i: 100, J: 0.673751\n",
      "i: 110, J: 0.671114\n",
      "i: 120, J: 0.668073\n",
      "i: 130, J: 0.664549\n",
      "i: 140, J: 0.660447\n",
      "i: 150, J: 0.655666\n",
      "i: 160, J: 0.650101\n",
      "i: 170, J: 0.643644\n",
      "i: 180, J: 0.636181\n",
      "i: 190, J: 0.627581\n",
      "i: 200, J: 0.617687\n",
      "i: 210, J: 0.606322\n",
      "i: 220, J: 0.593304\n",
      "i: 230, J: 0.578464\n",
      "i: 240, J: 0.561680\n",
      "i: 250, J: 0.542894\n",
      "i: 260, J: 0.522141\n",
      "i: 270, J: 0.499570\n",
      "i: 280, J: 0.475451\n",
      "i: 290, J: 0.450166\n",
      "i: 300, J: 0.424189\n",
      "i: 310, J: 0.398037\n",
      "i: 320, J: 0.372230\n",
      "i: 330, J: 0.347235\n",
      "i: 340, J: 0.323436\n",
      "i: 350, J: 0.301114\n",
      "i: 360, J: 0.280444\n",
      "i: 370, J: 0.261503\n",
      "i: 380, J: 0.244291\n",
      "i: 390, J: 0.228747\n",
      "i: 400, J: 0.214774\n",
      "i: 410, J: 0.202251\n",
      "i: 420, J: 0.191048\n",
      "i: 430, J: 0.181032\n",
      "i: 440, J: 0.172077\n",
      "i: 450, J: 0.164064\n",
      "i: 460, J: 0.156886\n",
      "i: 470, J: 0.150445\n",
      "i: 480, J: 0.144654\n",
      "i: 490, J: 0.139438\n"
     ]
    }
   ],
   "source": [
    "#training\n",
    "\n",
    "import torch.optim as optim\n",
    "\n",
    "model = MyNN()\n",
    "opt = optim.SGD(model.parameters(), lr=0.1)\n",
    "cost_func = nn.CrossEntropyLoss()\n",
    "\n",
    "tx = torch.tensor(x, dtype=torch.float32)\n",
    "ty = torch.tensor(y, dtype=torch.long) #tensor(m)\n",
    "\n",
    "for i in range(500):\n",
    "  tz = model(tx) #tensor(m, 2)\n",
    "  J = cost_func(tz, ty)\n",
    "\n",
    "  if i%10 == 0:\n",
    "    print('i: %d, J: %f' % (i, J.item()))\n",
    "\n",
    "  J.backward()\n",
    "  opt.step()\n",
    "  opt.zero_grad()"
   ]
  },
  {
   "cell_type": "code",
   "execution_count": 4,
   "metadata": {},
   "outputs": [
    {
     "name": "stdout",
     "output_type": "stream",
     "text": [
      "accuracy: 0.9600\n"
     ]
    }
   ],
   "source": [
    "#Evaluating\n",
    "\n",
    "tz = model(tx) #tensor(m, 2)\n",
    "predict = torch.argmax(tz, dim=1) #tensor(m) of long\n",
    "\n",
    "accuracy = (predict==ty).sum().item()/len(ty)\n",
    "print('accuracy: %.4f' % accuracy)\n"
   ]
  }
 ],
 "metadata": {
  "kernelspec": {
   "display_name": ".venv",
   "language": "python",
   "name": "python3"
  },
  "language_info": {
   "codemirror_mode": {
    "name": "ipython",
    "version": 3
   },
   "file_extension": ".py",
   "mimetype": "text/x-python",
   "name": "python",
   "nbconvert_exporter": "python",
   "pygments_lexer": "ipython3",
   "version": "3.12.5"
  }
 },
 "nbformat": 4,
 "nbformat_minor": 2
}
