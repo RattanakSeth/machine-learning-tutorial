{
 "cells": [
  {
   "cell_type": "markdown",
   "metadata": {},
   "source": [
    "### Exercise 7.2"
   ]
  },
  {
   "cell_type": "code",
   "execution_count": 4,
   "metadata": {},
   "outputs": [],
   "source": [
    "import numpy as np\n",
    "import pandas as pd\n",
    "from sklearn.model_selection import train_test_split\n",
    "from sklearn.preprocessing import StandardScaler\n",
    "from sklearn.decomposition import PCA\n",
    "from sklearn.neural_network import MLPClassifier\n",
    "from sklearn.metrics import accuracy_score, classification_report\n",
    "import torch\n",
    "import torch.nn as nn\n",
    "import torch.optim as optim\n",
    "from torch.utils.data import DataLoader, TensorDataset"
   ]
  },
  {
   "cell_type": "code",
   "execution_count": 19,
   "metadata": {},
   "outputs": [
    {
     "name": "stdout",
     "output_type": "stream",
     "text": [
      "(4898, 11)\n",
      "(4898,)\n"
     ]
    }
   ],
   "source": [
    "data = pd.read_csv('../data/wine_quality.csv')\n",
    "# x = data[:, 0:-1].to_numpy()\n",
    "# y = data[:,-1].to_numpy()\n",
    "X = data.iloc[:, :-1].to_numpy()\n",
    "y = data.iloc[:, -1].to_numpy()\n",
    "labels = {\n",
    "    'Medium': 0,\n",
    "    'Good': 1,\n",
    "    'Excellent': 2\n",
    "}\n",
    "y = np.array([labels[i] for i in y])\n",
    "\n",
    "print(X.shape)\n",
    "print(y.shape)"
   ]
  },
  {
   "cell_type": "markdown",
   "metadata": {},
   "source": [
    "### Standardize the feature"
   ]
  },
  {
   "cell_type": "code",
   "execution_count": 8,
   "metadata": {},
   "outputs": [],
   "source": [
    "scaler = StandardScaler()\n",
    "X_scaled = scaler.fit_transform(X)"
   ]
  },
  {
   "cell_type": "markdown",
   "metadata": {},
   "source": [
    "### Split into the train test set"
   ]
  },
  {
   "cell_type": "code",
   "execution_count": 9,
   "metadata": {},
   "outputs": [],
   "source": [
    "# Split into train and test sets\n",
    "X_train, X_test, y_train, y_test = train_test_split(X_scaled, y, test_size=0.2, random_state=42)"
   ]
  },
  {
   "cell_type": "code",
   "execution_count": 10,
   "metadata": {},
   "outputs": [],
   "source": [
    "# Convert numpy arrays to PyTorch tensors\n",
    "X_train_tensor = torch.tensor(X_train, dtype=torch.float32)\n",
    "X_test_tensor = torch.tensor(X_test, dtype=torch.float32)"
   ]
  },
  {
   "cell_type": "code",
   "execution_count": 11,
   "metadata": {},
   "outputs": [],
   "source": [
    "# Step 2: Dimensionality Reduction using PCA\n",
    "pca = PCA(n_components=5)\n",
    "X_train_pca = pca.fit_transform(X_train)\n",
    "X_test_pca = pca.transform(X_test)"
   ]
  },
  {
   "cell_type": "code",
   "execution_count": 12,
   "metadata": {},
   "outputs": [],
   "source": [
    "# Step 3: Autoencoder Implementation using PyTorch\n",
    "class Autoencoder(nn.Module):\n",
    "    def __init__(self, input_dim):\n",
    "        super(Autoencoder, self).__init__()\n",
    "        # Encoder\n",
    "        self.encoder = nn.Sequential(\n",
    "            nn.Linear(input_dim, 64),\n",
    "            nn.ReLU(),\n",
    "            nn.Linear(64, 5)  # bottleneck layer with 5 neurons\n",
    "        )\n",
    "        # Decoder\n",
    "        self.decoder = nn.Sequential(\n",
    "            nn.Linear(5, 64),\n",
    "            nn.ReLU(),\n",
    "            nn.Linear(64, input_dim)\n",
    "        )\n",
    "\n",
    "    def forward(self, x):\n",
    "        x = self.encoder(x)\n",
    "        x = self.decoder(x)\n",
    "        return x"
   ]
  },
  {
   "cell_type": "code",
   "execution_count": 13,
   "metadata": {},
   "outputs": [],
   "source": [
    "# Initialize autoencoder\n",
    "input_dim = X_train.shape[1]\n",
    "autoencoder = Autoencoder(input_dim)\n",
    "\n",
    "# Loss function and optimizer\n",
    "criterion = nn.MSELoss()\n",
    "optimizer = optim.Adam(autoencoder.parameters(), lr=0.001)\n",
    "\n",
    "# Create DataLoader for batching\n",
    "train_dataset = TensorDataset(X_train_tensor, X_train_tensor)  # input = target for autoencoder\n",
    "train_loader = DataLoader(train_dataset, batch_size=32, shuffle=True)"
   ]
  },
  {
   "cell_type": "code",
   "execution_count": 14,
   "metadata": {},
   "outputs": [],
   "source": [
    "# Train the autoencoder\n",
    "num_epochs = 50\n",
    "for epoch in range(num_epochs):\n",
    "    for data in train_loader:\n",
    "        inputs, targets = data\n",
    "        optimizer.zero_grad()\n",
    "        outputs = autoencoder(inputs)\n",
    "        loss = criterion(outputs, targets)\n",
    "        loss.backward()\n",
    "        optimizer.step()\n"
   ]
  },
  {
   "cell_type": "code",
   "execution_count": 15,
   "metadata": {},
   "outputs": [],
   "source": [
    "# Extract 5-dimensional bottleneck features using the encoder\n",
    "with torch.no_grad():\n",
    "    X_train_autoencoder = autoencoder.encoder(X_train_tensor).numpy()\n",
    "    X_test_autoencoder = autoencoder.encoder(X_test_tensor).numpy()"
   ]
  },
  {
   "cell_type": "code",
   "execution_count": 17,
   "metadata": {},
   "outputs": [
    {
     "name": "stdout",
     "output_type": "stream",
     "text": [
      "Original Data:\n"
     ]
    },
    {
     "name": "stderr",
     "output_type": "stream",
     "text": [
      "/Users/rattanak/Documents/machine-learning-tutorial/.venv/lib/python3.12/site-packages/sklearn/neural_network/_multilayer_perceptron.py:690: ConvergenceWarning: Stochastic Optimizer: Maximum iterations (500) reached and the optimization hasn't converged yet.\n",
      "  warnings.warn(\n"
     ]
    },
    {
     "name": "stdout",
     "output_type": "stream",
     "text": [
      "Accuracy: 0.6520408163265307\n",
      "              precision    recall  f1-score   support\n",
      "\n",
      "           0       0.67      0.66      0.66       321\n",
      "           1       0.63      0.66      0.64       432\n",
      "           2       0.67      0.63      0.65       227\n",
      "\n",
      "    accuracy                           0.65       980\n",
      "   macro avg       0.66      0.65      0.65       980\n",
      "weighted avg       0.65      0.65      0.65       980\n",
      "\n",
      "PCA-Reduced Data:\n",
      "Accuracy: 0.5673469387755102\n",
      "              precision    recall  f1-score   support\n",
      "\n",
      "           0       0.58      0.63      0.61       321\n",
      "           1       0.54      0.59      0.57       432\n",
      "           2       0.61      0.42      0.50       227\n",
      "\n",
      "    accuracy                           0.57       980\n",
      "   macro avg       0.58      0.55      0.56       980\n",
      "weighted avg       0.57      0.57      0.56       980\n",
      "\n",
      "Autoencoder-Reduced Data:\n",
      "Accuracy: 0.6\n",
      "              precision    recall  f1-score   support\n",
      "\n",
      "           0       0.67      0.54      0.60       321\n",
      "           1       0.57      0.68      0.62       432\n",
      "           2       0.60      0.53      0.56       227\n",
      "\n",
      "    accuracy                           0.60       980\n",
      "   macro avg       0.61      0.58      0.59       980\n",
      "weighted avg       0.61      0.60      0.60       980\n",
      "\n"
     ]
    }
   ],
   "source": [
    "# Step 4: Neural Network Classifier using scikit-learn\n",
    "def train_classifier(X_train, X_test, y_train, y_test):\n",
    "    classifier = MLPClassifier(hidden_layer_sizes=(64, 32), max_iter=500, random_state=42)\n",
    "    classifier.fit(X_train, y_train)\n",
    "    y_pred = classifier.predict(X_test)\n",
    "    accuracy = accuracy_score(y_test, y_pred)\n",
    "    report = classification_report(y_test, y_pred)\n",
    "    return accuracy, report\n",
    "\n",
    "# Classifier on original data\n",
    "print(\"Original Data:\")\n",
    "accuracy_orig, report_orig = train_classifier(X_train, X_test, y_train, y_test)\n",
    "print(f\"Accuracy: {accuracy_orig}\")\n",
    "print(report_orig)\n",
    "\n",
    "# Classifier on PCA-reduced data\n",
    "print(\"PCA-Reduced Data:\")\n",
    "accuracy_pca, report_pca = train_classifier(X_train_pca, X_test_pca, y_train, y_test)\n",
    "print(f\"Accuracy: {accuracy_pca}\")\n",
    "print(report_pca)\n",
    "\n",
    "# Classifier on Autoencoder-reduced data\n",
    "print(\"Autoencoder-Reduced Data:\")\n",
    "accuracy_ae, report_ae = train_classifier(X_train_autoencoder, X_test_autoencoder, y_train, y_test)\n",
    "print(f\"Accuracy: {accuracy_ae}\")\n",
    "print(report_ae)"
   ]
  }
 ],
 "metadata": {
  "kernelspec": {
   "display_name": ".venv",
   "language": "python",
   "name": "python3"
  },
  "language_info": {
   "codemirror_mode": {
    "name": "ipython",
    "version": 3
   },
   "file_extension": ".py",
   "mimetype": "text/x-python",
   "name": "python",
   "nbconvert_exporter": "python",
   "pygments_lexer": "ipython3",
   "version": "3.12.5"
  }
 },
 "nbformat": 4,
 "nbformat_minor": 2
}
