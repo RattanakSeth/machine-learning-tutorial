{
 "cells": [
  {
   "cell_type": "markdown",
   "metadata": {},
   "source": [
    "### XOR"
   ]
  },
  {
   "cell_type": "code",
   "execution_count": 7,
   "metadata": {},
   "outputs": [
    {
     "name": "stdout",
     "output_type": "stream",
     "text": [
      "1\n",
      "1\n",
      "1\n"
     ]
    }
   ],
   "source": [
    "X1=0\n",
    "X2=0\n",
    " \n",
    "#X1^notX2\n",
    "w1=1\n",
    "w2=-1\n",
    "threshold1 = -0.5\n",
    "S1= X1*w1+X2*w2\n",
    "def step_function_1 (S,threshold):\n",
    "  if S<threshold:\n",
    "    return 0\n",
    "  else:\n",
    "    return 1\n",
    " \n",
    "#notX1^X2\n",
    "w3= -1\n",
    "w4= 1\n",
    "S2=X1*w3+X2*w4\n",
    "threshold2 = -0.5\n",
    " \n",
    "y1=step_function_1(S1,threshold1)\n",
    "y2=step_function_1(S2,threshold2)\n",
    "print(y1)\n",
    "print(y2)\n",
    " \n",
    "# OR y1 v y2\n",
    " \n",
    "w5=-1\n",
    "w6=1\n",
    "S3=X1*w5+w6*X2\n",
    "threshold3=-0.5\n",
    " \n",
    "def step_function_2 (S, threshold):\n",
    "    if S<threshold:\n",
    "        return 0\n",
    "    else:\n",
    "        return 1\n",
    "\n",
    "y3=step_function_2(S3,threshold3)\n",
    "# y2=step_function_2(S3,threshold2)\n",
    "print(y3)\n",
    "# print(y2)"
   ]
  },
  {
   "cell_type": "markdown",
   "metadata": {},
   "source": [
    "### NOT"
   ]
  },
  {
   "cell_type": "code",
   "execution_count": 11,
   "metadata": {},
   "outputs": [
    {
     "name": "stdout",
     "output_type": "stream",
     "text": [
      "1\n",
      "1\n",
      "0\n",
      "0\n",
      "0\n"
     ]
    }
   ],
   "source": [
    "X1=0\n",
    "X2=0\n",
    " \n",
    "def step_function_1 (S,threshold):\n",
    "  if S<threshold:\n",
    "    return 0\n",
    "  else:\n",
    "    return 1\n",
    " \n",
    "#not operation\n",
    "wnot=-1\n",
    "thresholdnot=-0.5\n",
    "Snot=X1*wnot\n",
    "ynot1=step_function_1(Snot,thresholdnot)\n",
    "print(ynot1)\n",
    " \n",
    "Snot=X2*wnot\n",
    "ynot2=step_function_1(Snot,thresholdnot)\n",
    "print(ynot2)\n",
    " \n",
    "#2nd and operation\n",
    "wand=1\n",
    "thresholdand=1.5\n",
    "Sand1=X1*wand+ynot2*wand\n",
    "yand1=step_function_1(Sand1,thresholdand)\n",
    "print(yand1)\n",
    " \n",
    "Sand2=X2*wand+ynot1*wand\n",
    "yand2=step_function_1(Sand2,thresholdand)\n",
    "print(yand2)\n",
    " \n",
    "#3rd or operation\n",
    "wor=1\n",
    "thresholdor=0.5\n",
    "Sor=wor*yand1+yand2*wor\n",
    "yor=step_function_1(Sor,thresholdor)\n",
    "print(yor)"
   ]
  },
  {
   "cell_type": "markdown",
   "metadata": {},
   "source": [
    "### XOR Sigmoid"
   ]
  },
  {
   "cell_type": "code",
   "execution_count": 37,
   "metadata": {},
   "outputs": [
    {
     "name": "stdout",
     "output_type": "stream",
     "text": [
      "0.9999251537724895\n",
      "0.9999251537724895\n",
      "0.9999724643088853\n",
      "0.9999898700090192\n"
     ]
    }
   ],
   "source": [
    "import numpy as np\n",
    "X1=1\n",
    "X2=1\n",
    " \n",
    " \n",
    "def sigmoid (X):\n",
    "  return 1/(1+np.exp(-10-X))\n",
    " \n",
    "#not operation\n",
    "wnot=-1\n",
    "thresholdnot=-0.5\n",
    "Snot=X1*wnot\n",
    "X=Snot-thresholdnot\n",
    "ynot1=sigmoid(X)\n",
    "print(ynot1)\n",
    " \n",
    "Snot=X2*wnot\n",
    "X=Snot-thresholdnot\n",
    "ynot2=sigmoid(X)\n",
    "print(ynot2)\n",
    " \n",
    " \n",
    "# and opertaion\n",
    "wand=1\n",
    "thresholdand=1.5\n",
    "Sand=X1*wand+X2*wand\n",
    "X=Sand-thresholdand\n",
    "yand=sigmoid(X)\n",
    "print(yand)\n",
    "\n",
    "# or operation\n",
    "wor=1\n",
    "thresholdor=0.5 #1, 0.5\n",
    "Sor=X1*wor+X2*wor\n",
    "X=Sor-thresholdor\n",
    "yor=sigmoid(X)\n",
    "print(yor)\n",
    "\n",
    "# XOR operation"
   ]
  }
 ],
 "metadata": {
  "kernelspec": {
   "display_name": "py312",
   "language": "python",
   "name": "python3"
  },
  "language_info": {
   "codemirror_mode": {
    "name": "ipython",
    "version": 3
   },
   "file_extension": ".py",
   "mimetype": "text/x-python",
   "name": "python",
   "nbconvert_exporter": "python",
   "pygments_lexer": "ipython3",
   "version": "3.12.9"
  }
 },
 "nbformat": 4,
 "nbformat_minor": 2
}
