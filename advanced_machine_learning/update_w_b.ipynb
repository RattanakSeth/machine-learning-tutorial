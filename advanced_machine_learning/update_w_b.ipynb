{
 "cells": [
  {
   "cell_type": "code",
   "execution_count": 1,
   "metadata": {},
   "outputs": [],
   "source": [
    "def update_w_and_b(spendings, sales, w, b, alpha):\n",
    "    dl_dw =0.0\n",
    "    dl_dw=0.0\n",
    "    N = len(spendings)\n",
    "\n",
    "    for i in range(N):\n",
    "        dl_dw += -2 * spendings[i] * (sales[i] - (w*spendings[i] + b))\n",
    "        dl_db += -2 * (sales[i] - (w*spendings[i] + b))\n",
    "\n",
    "    # update w and b\n",
    "    w = w - (1/float(N)) * dl_dw*alpha\n",
    "    b = b - (1/float(N)) * dl_db*alpha\n",
    "\n",
    "    return w,b"
   ]
  },
  {
   "cell_type": "code",
   "execution_count": null,
   "metadata": {},
   "outputs": [],
   "source": [
    "sales = [\n",
    "    \n",
    "]"
   ]
  }
 ],
 "metadata": {
  "kernelspec": {
   "display_name": "py312",
   "language": "python",
   "name": "python3"
  },
  "language_info": {
   "codemirror_mode": {
    "name": "ipython",
    "version": 3
   },
   "file_extension": ".py",
   "mimetype": "text/x-python",
   "name": "python",
   "nbconvert_exporter": "python",
   "pygments_lexer": "ipython3",
   "version": "3.12.9"
  }
 },
 "nbformat": 4,
 "nbformat_minor": 2
}
